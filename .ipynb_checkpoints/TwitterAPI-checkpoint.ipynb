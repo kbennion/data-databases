{
 "cells": [
  {
   "cell_type": "code",
   "execution_count": 3,
   "metadata": {
    "collapsed": true
   },
   "outputs": [],
   "source": [
    "api_key = \"XoXlT9aZvas7C96npwUkq3fDB\"\n",
    "api_secret = \"BaEcqQkoDMC7XEdXQNdfvvqPSj62KYcPEGfNsogWHItUrjaQ6g\"\n",
    "access_token = \"160976871-vi2x3yrt9WIXSc8x25k23C4FiDH5lgCVdoRFd47d\"\n",
    "token_secret = \"VMFdCDRlMchcSvYkqNYNwhQTQuN9pG4Pl2jYzB6rwqGCV\""
   ]
  },
  {
   "cell_type": "code",
   "execution_count": 1,
   "metadata": {
    "collapsed": false
   },
   "outputs": [
    {
     "name": "stdout",
     "output_type": "stream",
     "text": [
      "Collecting twython\n",
      "  Downloading twython-3.4.0.tar.gz\n",
      "Requirement already satisfied (use --upgrade to upgrade): requests>=2.1.0 in /usr/lib/python3.4/site-packages (from twython)\n",
      "Collecting requests_oauthlib>=0.4.0 (from twython)\n",
      "  Downloading requests_oauthlib-0.6.1-py2.py3-none-any.whl\n",
      "Collecting oauthlib>=0.6.2 (from requests_oauthlib>=0.4.0->twython)\n",
      "  Downloading oauthlib-1.1.2.tar.gz (111kB)\n",
      "\u001b[K    100% |████████████████████████████████| 112kB 1.8MB/s \n",
      "\u001b[?25hInstalling collected packages: oauthlib, requests-oauthlib, twython\n",
      "  Running setup.py install for oauthlib ... \u001b[?25l-\b \b\\\b \b|\b \b/\b \b-\b \b\\\b \b|\b \b/\b \b-\b \b\\\b \b|\b \b/\b \b-\b \b\\\b \b|\b \b/\b \bdone\n",
      "\u001b[?25h  Running setup.py install for twython ... \u001b[?25l-\b \b\\\b \b|\b \b/\b \b-\b \b\\\b \bdone\n",
      "\u001b[?25hSuccessfully installed oauthlib-1.1.2 requests-oauthlib-0.6.1 twython-3.4.0\n"
     ]
    }
   ],
   "source": [
    "!pip3 install twython"
   ]
  },
  {
   "cell_type": "code",
   "execution_count": 4,
   "metadata": {
    "collapsed": false
   },
   "outputs": [],
   "source": [
    "import twython\n",
    "twitter = twython.Twython(api_key, api_secret, access_token, token_secret)"
   ]
  },
  {
   "cell_type": "code",
   "execution_count": 23,
   "metadata": {
    "collapsed": false
   },
   "outputs": [],
   "source": [
    "response = twitter.search(q=\"data journalism :()\", result_type=\"recent\", geocode=\"40.807474,-73.963256,10mi\", count=100)"
   ]
  },
  {
   "cell_type": "code",
   "execution_count": 22,
   "metadata": {
    "collapsed": false
   },
   "outputs": [
    {
     "data": {
      "text/plain": [
       "6"
      ]
     },
     "execution_count": 22,
     "metadata": {},
     "output_type": "execute_result"
    }
   ],
   "source": [
    "len(response['statuses'])"
   ]
  },
  {
   "cell_type": "code",
   "execution_count": 7,
   "metadata": {
    "collapsed": false
   },
   "outputs": [
    {
     "data": {
      "text/plain": [
       "dict"
      ]
     },
     "execution_count": 7,
     "metadata": {},
     "output_type": "execute_result"
    }
   ],
   "source": [
    "type(response)"
   ]
  },
  {
   "cell_type": "code",
   "execution_count": 8,
   "metadata": {
    "collapsed": false
   },
   "outputs": [
    {
     "data": {
      "text/plain": [
       "dict_keys(['search_metadata', 'statuses'])"
      ]
     },
     "execution_count": 8,
     "metadata": {},
     "output_type": "execute_result"
    }
   ],
   "source": [
    "response.keys()"
   ]
  },
  {
   "cell_type": "code",
   "execution_count": 9,
   "metadata": {
    "collapsed": false
   },
   "outputs": [
    {
     "data": {
      "text/plain": [
       "{'completed_in': 0.012,\n",
       " 'count': 20,\n",
       " 'max_id': 0,\n",
       " 'max_id_str': '0',\n",
       " 'query': 'data+journalism',\n",
       " 'since_id': 0,\n",
       " 'since_id_str': '0'}"
      ]
     },
     "execution_count": 9,
     "metadata": {},
     "output_type": "execute_result"
    }
   ],
   "source": [
    "response['search_metadata']"
   ]
  },
  {
   "cell_type": "code",
   "execution_count": 11,
   "metadata": {
    "collapsed": false
   },
   "outputs": [
    {
     "data": {
      "text/plain": [
       "list"
      ]
     },
     "execution_count": 11,
     "metadata": {},
     "output_type": "execute_result"
    }
   ],
   "source": [
    "type(response['statuses'])"
   ]
  },
  {
   "cell_type": "code",
   "execution_count": 12,
   "metadata": {
    "collapsed": false
   },
   "outputs": [
    {
     "data": {
      "text/plain": [
       "dict"
      ]
     },
     "execution_count": 12,
     "metadata": {},
     "output_type": "execute_result"
    }
   ],
   "source": [
    "type(response['statuses'][0])"
   ]
  },
  {
   "cell_type": "code",
   "execution_count": 13,
   "metadata": {
    "collapsed": true
   },
   "outputs": [],
   "source": [
    "first = response['statuses'][0]"
   ]
  },
  {
   "cell_type": "code",
   "execution_count": 14,
   "metadata": {
    "collapsed": false
   },
   "outputs": [
    {
     "data": {
      "text/plain": [
       "dict_keys(['in_reply_to_screen_name', 'geo', 'metadata', 'entities', 'user', 'coordinates', 'in_reply_to_status_id_str', 'lang', 'retweeted', 'source', 'in_reply_to_status_id', 'place', 'favorited', 'text', 'id_str', 'contributors', 'favorite_count', 'retweet_count', 'id', 'possibly_sensitive', 'in_reply_to_user_id', 'truncated', 'created_at', 'is_quote_status', 'in_reply_to_user_id_str'])"
      ]
     },
     "execution_count": 14,
     "metadata": {},
     "output_type": "execute_result"
    }
   ],
   "source": [
    "first.keys()"
   ]
  },
  {
   "cell_type": "code",
   "execution_count": 15,
   "metadata": {
    "collapsed": false
   },
   "outputs": [
    {
     "data": {
      "text/plain": [
       "\"I'm giving a #useR2016 talk @ 2:12pm PT/5:12pm ET. It's on @FiveThirtyEight's data journalism workflow w/ R. Stream: https://t.co/XTGDcVBVQR\""
      ]
     },
     "execution_count": 15,
     "metadata": {},
     "output_type": "execute_result"
    }
   ],
   "source": [
    "first['text']"
   ]
  },
  {
   "cell_type": "code",
   "execution_count": 17,
   "metadata": {
    "collapsed": false
   },
   "outputs": [
    {
     "data": {
      "text/plain": [
       "'andrewflowers'"
      ]
     },
     "execution_count": 17,
     "metadata": {},
     "output_type": "execute_result"
    }
   ],
   "source": [
    "first['user']['screen_name']"
   ]
  },
  {
   "cell_type": "code",
   "execution_count": 18,
   "metadata": {
    "collapsed": false
   },
   "outputs": [
    {
     "name": "stdout",
     "output_type": "stream",
     "text": [
      "andrewflowers - I'm giving a #useR2016 talk @ 2:12pm PT/5:12pm ET. It's on @FiveThirtyEight's data journalism workflow w/ R. Stream: https://t.co/XTGDcVBVQR\n"
     ]
    }
   ],
   "source": [
    "for item in response['statuses']:\n",
    "    print(item['user']['screen_name'], \"-\", item['text'])"
   ]
  },
  {
   "cell_type": "code",
   "execution_count": 24,
   "metadata": {
    "collapsed": true
   },
   "outputs": [],
   "source": [
    "for item in response['statuses']:\n",
    "    print(item['user']['screen_name'])"
   ]
  },
  {
   "cell_type": "code",
   "execution_count": 26,
   "metadata": {
    "collapsed": false
   },
   "outputs": [],
   "source": [
    "response = twitter.get_user_timeline(screen_name=\"columbiajourn\", count=50, include_rts=False, exclude_replies=True)"
   ]
  },
  {
   "cell_type": "code",
   "execution_count": 27,
   "metadata": {
    "collapsed": false
   },
   "outputs": [
    {
     "name": "stdout",
     "output_type": "stream",
     "text": [
      "If you're covering @Rio2016_en, here are some insights on Brazil: https://t.co/siKlDByz0c\n",
      "RIP, @MsToniRandolph. https://t.co/Sk2ZOvW5VT\n",
      "Final hour of giving for the Annual Fund: https://t.co/txFzXZ7rHI\n",
      "You're on deadline for the Annual Fund, 14 hours (EST) remain: https://t.co/txFzXZ7rHI https://t.co/PVbCl5ve9E\n",
      "It's not too late to contribute to the future of journalism through the Annual Fund. https://t.co/txFzXZ7rHI https://t.co/YsHB34WQpz\n",
      "#cjs59 Paul Zimmerman, aka \"Dr. Z,\" writes about his Jschool experience in this memoir excerpt: https://t.co/d1PT4m0f36 @SInow\n",
      "For #WVAfloods coverage, see @NBCNews #cjs12 @MorganRadford https://t.co/nKEtr8KsXn\n",
      "Congrats to @MagnumPhotos Nominee &amp; #cjs10 @dianamarkosian. Her work explores her Armenian heritage &amp; memory https://t.co/Rug8kUh0TC\n",
      "2/2 #canalampliado included grad contributors \n",
      "Matteo Lonardi, @aglorios, @SarahLJorgensen &amp; @simko_bednarski  \n",
      "https://t.co/uVXWsQ3z28\n",
      "1/2 Adj Prof Walt Bogdanich, #cjs15 @jacwil28 &amp; @agMendezPty co-authored @nytimes article on #canalampliado\n",
      " https://t.co/uVXWsQ3z28\n",
      "From Prof @gianninasegnini &amp;  students: investigation on the side you don't see of the cruise industry @UniNoticias https://t.co/jnmvseYQPK\n"
     ]
    }
   ],
   "source": [
    "for item in response:\n",
    "    print(item['text'])"
   ]
  },
  {
   "cell_type": "markdown",
   "metadata": {},
   "source": [
    "cursors"
   ]
  },
  {
   "cell_type": "code",
   "execution_count": 28,
   "metadata": {
    "collapsed": true
   },
   "outputs": [],
   "source": [
    "cursor = twitter.cursor(twitter.search, q='\"data journalism\" -filter:retweets', count=100)\n",
    "all_text = list()\n",
    "for tweet in cursor:\n",
    "    all_text.append(tweet['text'])\n",
    "    if len(all_text) > 500:\n",
    "        break"
   ]
  },
  {
   "cell_type": "code",
   "execution_count": 29,
   "metadata": {
    "collapsed": false
   },
   "outputs": [
    {
     "data": {
      "text/plain": [
       "['“Panama Papers gana Data Journalism Awards 2016” por @LIFdigital https://t.co/ipjP4v3G67  #DDHH4G',\n",
       " 'Data Journalism: A Simple Guide for Marketers via @HubSpot https://t.co/3vGbN7h3t4',\n",
       " 'Six ways to generate data journalism stories https://t.co/62GBDcIhrW #ddj #',\n",
       " 'Een kaart met daarop locaties van alle ontplofte autobommen in Bagdad. #zucht\\n\\nhttps://t.co/jMCKL4u4As https://t.co/HtZjaSUleS',\n",
       " 'Top Ten #ddj: The Week’s Most Popular Data Journalism Links https://t.co/FuMYXglSWb',\n",
       " 'Data-driven journalism Top 10: Brexit, Aleph data search tool, spacial data &amp; more https://t.co/ItaZ0ujn9O #ddj https://t.co/PkdjHLEzVj',\n",
       " \"First time I've seen in a long history of data journalism just went live, and it's about corruption.\",\n",
       " 'What’s missing from data journalism education and how we can improve the field https://t.co/KM34kmtVWU via @knightfdn',\n",
       " '@smurray38 The sort of data journalism we can actually use. @jarodhitchcock',\n",
       " \"EMT course tech needs announced. We'll be working with virtual reality &amp; data journalism too. #profbclass #ICDMC16 https://t.co/gOs0Tt9pGf\",\n",
       " \"EMT course tech needs announced. We'll be working with virtual reality &amp; data journalism too. #profbclass #ICDMC16 https://t.co/NYUL10f7Og\",\n",
       " \"Biggest leak in the history of data journalism just went live, and it's about autism which causes vaccines.\",\n",
       " 'Data Journalism: A Simple Guide for Marketers https://t.co/UOLos3LeE7',\n",
       " 'Public #Trello cards for #DataScience , data journalism and more \\nhttps://t.co/lzvKZelPfm \\n#ddj #DataScientist #BigData',\n",
       " 'The @univmiami conference to explore intersection of #datajournalism and digital humanities https://t.co/ZEkTbnBrXS #ddj #data #theu #Miami',\n",
       " 'Top Ten #ddj: The Week’s Most Popular Data Journalism Links https://t.co/BzHpMHsc10 vía @gijn',\n",
       " '#DataJournalism: @Kit_Smith explores what it can do for your content marketing: https://t.co/jSVVEXQkV8 https://t.co/nYsbzePWeT',\n",
       " '8 Fantastic Examples of Data Journalism https://t.co/nZgoppOZWN #bigdata #datascience',\n",
       " 'Top Ten #ddj: The Week’s Most Popular Data Journalism Links #RealJournalism https://t.co/ugoHqnEC5q',\n",
       " 'Christo Floating Piers Data Journalism @LaStampa Catchy https://t.co/34lrI7Ayxw',\n",
       " 'Data-driven journalism Top 10: Brexit; Aleph data search tool; spacial data &amp; more https://t.co/ItaZ0ujn9O #ddj https://t.co/PkdjHLEzVj',\n",
       " 'Wikileaks Iraq: data journalism maps every death https://t.co/33pJlA24Nv #dataviz https://t.co/b93RurtN8G',\n",
       " '#dataisbeautiful: Wikileaks Iraq: data journalism maps every death | https://t.co/i3l6ZjuKtO https://t.co/eIw01u6rJm',\n",
       " '#Data is Beautiful! \"Wikileaks Iraq: data journalism maps every death\". Discuss: https://t.co/4ST57q9log https://t.co/wLqcX6svrm',\n",
       " 'Data Journalism: A Simple Guide for Marketers https://t.co/x8pIF8rtMh via @hubspot @DholakiyaPratik',\n",
       " 'Wikileaks Iraq: data journalism maps every death https://t.co/f0J6RVKEJA',\n",
       " 'Wikileaks Iraq: data journalism maps every death via /r/dataisbeautiful https://t.co/2Gm2Q7JeBg https://t.co/28NhmokkqI',\n",
       " 'The latest Data Journalism! https://t.co/qN98ek9nYS #insideoutusa #contentmarketing',\n",
       " 'Depressing stats:\\nhttps://t.co/uiFQaUefjS',\n",
       " \"Biggest leak in the history of data journalism just went live, and it's about The Zodiac Killer.\",\n",
       " 'Wikileaks Iraq: data journalism maps every death https://t.co/XmiQTbZkDo',\n",
       " 'Using Data Journalism for Content Marketing - https://t.co/iPtzWPqyTJ #Data #ContentMarketing #Analytics #Research',\n",
       " '“Panama Papers gana Data Journalism Awards 2016” por @LIFdigital https://t.co/ipjP4v3G67  #DDHH4G',\n",
       " 'Data Journalism: A Simple Guide for Marketers https://t.co/w9uHCXtAZ9 https://t.co/DMImBSLTfE',\n",
       " 'The latest Data Journalism! https://t.co/moNhOKnSPs Thanks to @TheInsightBee @vikesverkko #journalism #datajournalism',\n",
       " \"Biggest leak in the history of data journalism just went live, and it's about Cards Against Humanity.\",\n",
       " 'Data Journalism Awards celebrate evidence-based questioning in our society https://t.co/jToiOpgKxq @euroscientist https://t.co/YIIEf3vKd5',\n",
       " 'Data Journalism: A Simple Guide for Marketers https://t.co/5Ju2NpNrCd',\n",
       " 'Data Journalism: A Simple Guide for Marketers https://t.co/dUDT2qEWWV',\n",
       " 'Data Journalism: A Simple Guide for Marketers https://t.co/jOtB1WCDgX via @hubspot @DholakiyaPratik #Startup #Marketing #GrowthHacking',\n",
       " 'How one Mexican data team uncovered the story of 4,000 missing women https://t.co/vwALimBe7q via @wordpressdotcom',\n",
       " 'And a great example of old-school reporting combined with data journalism by @MattNippert\\nand @Caleb_T https://t.co/JCJ7xiRULT @nzherald',\n",
       " '[PDF] \"DOWNLOAD\" The Data Journalism Handbook Free https://t.co/XrlIpcRgYg #ddj #',\n",
       " '“Panama Papers gana Data Journalism Awards 2016” por @LIFdigital https://t.co/ipjP4v3G67  #DDHH4G',\n",
       " \"Biggest leak in the history of data journalism just went live, and it's about Twitter.\",\n",
       " '@bengoldacre But not what it claims to be: it is based on data on deaths in Baghdad from 2004-09, not car bombs https://t.co/e17nNk5vzU',\n",
       " 'Top story: Wikileaks Iraq: data journalism maps every death | World news | theg… https://t.co/za8ui7CbGk, see more https://t.co/EQcKecsw9z',\n",
       " 'The latest Data Journalism Daily! https://t.co/dkM1nYl3aQ Thanks to @numeroteca @macloo @timetric #twitter #opendata',\n",
       " '@WladimirPulgarG parece que la información era real  https://t.co/7jkVntVsSc',\n",
       " '@CindyYassen @guardian the link seems not working .. I think you mean this article https://t.co/WWtZeYzSNt',\n",
       " \"@ndimichino OK, thanks. Here's the source. https://t.co/G0fcZfg286 Awful, but not necessarily car bombs. @ianbremmer should probably delete.\",\n",
       " 'Correction from @rezahakbari: deaths mapped (not bombs) https://t.co/QPlPHqIrd7 https://t.co/fYY3fVAM4C',\n",
       " \"Biggest leak in the history of data journalism just went live, and it's about BernieBros.\",\n",
       " '@iraqiblogger https://t.co/Xa5bXwC5I4',\n",
       " '.@univmiami conference to explore intersection of #datajournalism and digital humanities https://t.co/IWhDM9szOS #ddj #data',\n",
       " \".@wikileaks Iraq war logs map showing almost every deadly attack in \\n#Iraq between '04 - '09 https://t.co/097W9Fi27O https://t.co/jpVvXDLKJ5\",\n",
       " '@BLewak @damiabaran To stara mapa eksplozji IED (improwizowanych ład. wyb.) Obejmuje lata 2004-09 czyli po inwazji https://t.co/nzTyiFf29I',\n",
       " '8 Fantastic Examples of Data Journalism https://t.co/wxXIOf1QmQ #bigdata #datascience',\n",
       " \"@Rhiannon @AntoniaZ Original source. I've sent out a few corrections. It maps the number of deaths not car bombs https://t.co/oBXNpXJP7D\",\n",
       " '8 fantastic examples of data journalism - https://t.co/1lTC5UiRRn https://t.co/vOqVOUmnCl',\n",
       " 'Die Karte deren Screenshot aktuell rumgeht. https://t.co/GQzCvxTydD #Baghdad #Iraq #NaherOsten',\n",
       " 'Mapa de los coches bomba que han explotado en Bagdad desde 2003. Feliz 4 de julio, USA! https://t.co/u0IMTZVjhu https://t.co/XzdtdsG1yw',\n",
       " 'MSc Public Policy and Management student @amrsobhy  shortlisted for internationally renowned Data Journalism Award https://t.co/JTxMvMyvjd',\n",
       " \"Correction: https://t.co/oRKKPmYGPq\\nIt's total casualties 2004-2009 apologies  https://t.co/3WbZNJT1kN\",\n",
       " '@mondoke perdón de nuevo! The Guardian: https://t.co/yCqFTmWNcK',\n",
       " '@thehog316 @RitaPanahi source: https://t.co/3bIrKAC8Bs',\n",
       " \"@raziaiqbal @casparhenderson it's actually total casualties 2004-2009. https://t.co/0HzRYf7kfX\",\n",
       " '“Panama Papers gana Data Journalism Awards 2016” por @LIFdigital https://t.co/ipjP4v3G67  #DDHH4G',\n",
       " 'Il data journalism: cosa può insegnare ai blogger https://t.co/lUo0qsKK7W',\n",
       " '8 Fantastic Examples of Data Journalism https://t.co/76ztflmPrW #bigdata #datascience',\n",
       " 'This is the kind of data journalism this country needs https://t.co/mY0fX8rcQG',\n",
       " 'Neo Technology Launches Neo4j #Data #Journalism Accelerator Program at IRE Conference https://t.co/jGX1DHP2w9',\n",
       " '#Wikileaks Iraq: #data journalism maps every death - via @GuardianData  https://t.co/GjtJJepDCP',\n",
       " 'Betapa mengerikannya hidup di Irak\\nhttps://t.co/RP5AtI6UQU',\n",
       " '#Data Journalism: A Simple Guide for Marketers https://t.co/2ECb3Ko7xo @DholakiyaPratik #contentmarketing #inboundmarketing',\n",
       " 'Come cambia il data journalism, il caso di The Office for Creative Research https://t.co/M5e07hcoO6 https://t.co/7ChK7vvZ7G',\n",
       " 'Props to @tulsaworld for good data #journalism https://t.co/NFkdPV9dFU',\n",
       " 'PIAZZA DIGITALE Come cambia il data journalism,  il caso di The Office for Creative Research: di Cecilia Muss... https://t.co/YHcyOO7WaN',\n",
       " 'That map making the rounds is a map of all incidents from the Wikileaks Iraq documents: https://t.co/94tGFuP4ik',\n",
       " '@jmalsin I believe it is this: https://t.co/BsU62MZvPk',\n",
       " 'Horrific but misleading. The map appears to be based on 2004-09 data on deaths in #Baghdad https://t.co/e17nNk5vzU https://t.co/wxp2oVdxdG',\n",
       " '“Data Journalism: The New Normal in Kenya” https://t.co/dZi7gDKP65 by @idajooste #datajournalism #journalism #Kenya https://t.co/QMTmXDH6G1',\n",
       " '@fdbedout @EccehomoSetrina @rezahakbari Además de explosiones variadas incluye accidentes o ataques de la coalición https://t.co/JhIAxSM4q8',\n",
       " \"Biggest leak in the history of data journalism just went live, and it's about autism which causes vaccines.\",\n",
       " 'Data Journalism: A Simple Guide for Marketers https://t.co/Xm3KKRoFY9',\n",
       " '@dlgriffiths @Worldwidewebb1 and a bit misleading. Those are actually deaths in Baghdad from 2004 to 2009 https://t.co/pucJqV7fT1',\n",
       " '@rezahakbari https://t.co/Qoegj08cDK',\n",
       " 'A sobering list of deaths and attacks in Iraq - most recent car bomb death toll now at least 165 https://t.co/3NBCEg7kZe',\n",
       " 'Nein. Diese Karte ist 1. sechs Jahre alt und zeigt 2. nicht Autobomben in Bagdad. https://t.co/s8uG4QFfrP https://t.co/dNhJxhoJvM',\n",
       " 'PT: Here is the dataset being used for the map: https://t.co/pucJqV7fT1',\n",
       " '\\uf0a7Expertise in the use of social media, data journalism and online newsroom tools\\n\\n#JobSeekersSA',\n",
       " '@fxmenage @ianbremmer vieille et mauvaise donnée... morts (2004 à 2009) pas voitures piégées\\nhttps://t.co/TGAioEtN7I',\n",
       " \"Quand une data est mal partagée...\\nCeci n'est pas la carte des voitures piégées de Bagdad\\nhttps://t.co/TGAioEtN7I https://t.co/wNzZXT54Jh\",\n",
       " 'Seeking advice on moving into a career in data science or data journalism. Any advice or introductions?',\n",
       " '\"Data Journalism: A Simple Guide for Marketers\"  https://t.co/qnGqlXlz3k #marketing #feedly',\n",
       " \"@rezahakbari @paulcng Cette carte date de 2010, je n'ai pas l'impression qu'elle ait été actualisée depuis : https://t.co/vrsbHNcP3F\",\n",
       " '@normis Ciniski, bet pēc šī https://t.co/Eb93SmWyBn tas izskatās pēc vēl vienas ailīte ekselī. Tā vairs nav viņu pašu atrisināma problēma.',\n",
       " 'Alleine zwischen 2004 und 2009 starben in Bagdad 45.000 Menschen. Keine Straße ist sicher. (https://t.co/SpVNkxVvx0) https://t.co/EdJfzw4H2i',\n",
       " 'Cartographie des décès dans la région de Bagdad - https://t.co/TGMXwYadeW',\n",
       " '@andrisweb Kartē ir atzīmēti cilvēku upuri kopš ASV iebrukuma, nevis car-bombings.  Iesaku ar avotiem iepazīties. https://t.co/V11rQuHS8T',\n",
       " '“Panama Papers gana Data Journalism Awards 2016” por @LIFdigital https://t.co/ipjP4v3G67  #DDHH4G',\n",
       " 'Data Journalism: A Simple Guide for Marketers via @HubSpot https://t.co/3vGbN7h3t4',\n",
       " 'Six ways to generate data journalism stories https://t.co/62GBDcIhrW #ddj #',\n",
       " 'Een kaart met daarop locaties van alle ontplofte autobommen in Bagdad. #zucht\\n\\nhttps://t.co/jMCKL4u4As https://t.co/HtZjaSUleS',\n",
       " 'Top Ten #ddj: The Week’s Most Popular Data Journalism Links https://t.co/FuMYXglSWb',\n",
       " 'Data-driven journalism Top 10: Brexit, Aleph data search tool, spacial data &amp; more https://t.co/ItaZ0ujn9O #ddj https://t.co/PkdjHLEzVj',\n",
       " \"First time I've seen in a long history of data journalism just went live, and it's about corruption.\",\n",
       " 'What’s missing from data journalism education and how we can improve the field https://t.co/KM34kmtVWU via @knightfdn',\n",
       " '@smurray38 The sort of data journalism we can actually use. @jarodhitchcock',\n",
       " \"EMT course tech needs announced. We'll be working with virtual reality &amp; data journalism too. #profbclass #ICDMC16 https://t.co/gOs0Tt9pGf\",\n",
       " \"EMT course tech needs announced. We'll be working with virtual reality &amp; data journalism too. #profbclass #ICDMC16 https://t.co/NYUL10f7Og\",\n",
       " \"Biggest leak in the history of data journalism just went live, and it's about autism which causes vaccines.\",\n",
       " 'Data Journalism: A Simple Guide for Marketers https://t.co/UOLos3LeE7',\n",
       " 'Public #Trello cards for #DataScience , data journalism and more \\nhttps://t.co/lzvKZelPfm \\n#ddj #DataScientist #BigData',\n",
       " 'The @univmiami conference to explore intersection of #datajournalism and digital humanities https://t.co/ZEkTbnBrXS #ddj #data #theu #Miami',\n",
       " 'Top Ten #ddj: The Week’s Most Popular Data Journalism Links https://t.co/BzHpMHsc10 vía @gijn',\n",
       " '#DataJournalism: @Kit_Smith explores what it can do for your content marketing: https://t.co/jSVVEXQkV8 https://t.co/nYsbzePWeT',\n",
       " '8 Fantastic Examples of Data Journalism https://t.co/nZgoppOZWN #bigdata #datascience',\n",
       " 'Top Ten #ddj: The Week’s Most Popular Data Journalism Links #RealJournalism https://t.co/ugoHqnEC5q',\n",
       " 'Christo Floating Piers Data Journalism @LaStampa Catchy https://t.co/34lrI7Ayxw',\n",
       " 'Data-driven journalism Top 10: Brexit; Aleph data search tool; spacial data &amp; more https://t.co/ItaZ0ujn9O #ddj https://t.co/PkdjHLEzVj',\n",
       " 'Wikileaks Iraq: data journalism maps every death https://t.co/33pJlA24Nv #dataviz https://t.co/b93RurtN8G',\n",
       " '#dataisbeautiful: Wikileaks Iraq: data journalism maps every death | https://t.co/i3l6ZjuKtO https://t.co/eIw01u6rJm',\n",
       " '#Data is Beautiful! \"Wikileaks Iraq: data journalism maps every death\". Discuss: https://t.co/4ST57q9log https://t.co/wLqcX6svrm',\n",
       " 'Data Journalism: A Simple Guide for Marketers https://t.co/x8pIF8rtMh via @hubspot @DholakiyaPratik',\n",
       " 'Wikileaks Iraq: data journalism maps every death https://t.co/f0J6RVKEJA',\n",
       " 'Wikileaks Iraq: data journalism maps every death via /r/dataisbeautiful https://t.co/2Gm2Q7JeBg https://t.co/28NhmokkqI',\n",
       " 'The latest Data Journalism! https://t.co/qN98ek9nYS #insideoutusa #contentmarketing',\n",
       " 'Depressing stats:\\nhttps://t.co/uiFQaUefjS',\n",
       " \"Biggest leak in the history of data journalism just went live, and it's about The Zodiac Killer.\",\n",
       " 'Wikileaks Iraq: data journalism maps every death https://t.co/XmiQTbZkDo',\n",
       " 'Using Data Journalism for Content Marketing - https://t.co/iPtzWPqyTJ #Data #ContentMarketing #Analytics #Research',\n",
       " '“Panama Papers gana Data Journalism Awards 2016” por @LIFdigital https://t.co/ipjP4v3G67  #DDHH4G',\n",
       " 'Data Journalism: A Simple Guide for Marketers https://t.co/w9uHCXtAZ9 https://t.co/DMImBSLTfE',\n",
       " 'The latest Data Journalism! https://t.co/moNhOKnSPs Thanks to @TheInsightBee @vikesverkko #journalism #datajournalism',\n",
       " \"Biggest leak in the history of data journalism just went live, and it's about Cards Against Humanity.\",\n",
       " 'Data Journalism Awards celebrate evidence-based questioning in our society https://t.co/jToiOpgKxq @euroscientist https://t.co/YIIEf3vKd5',\n",
       " 'Data Journalism: A Simple Guide for Marketers https://t.co/5Ju2NpNrCd',\n",
       " 'Data Journalism: A Simple Guide for Marketers https://t.co/dUDT2qEWWV',\n",
       " 'Data Journalism: A Simple Guide for Marketers https://t.co/jOtB1WCDgX via @hubspot @DholakiyaPratik #Startup #Marketing #GrowthHacking',\n",
       " 'How one Mexican data team uncovered the story of 4,000 missing women https://t.co/vwALimBe7q via @wordpressdotcom',\n",
       " 'And a great example of old-school reporting combined with data journalism by @MattNippert\\nand @Caleb_T https://t.co/JCJ7xiRULT @nzherald',\n",
       " '[PDF] \"DOWNLOAD\" The Data Journalism Handbook Free https://t.co/XrlIpcRgYg #ddj #',\n",
       " '“Panama Papers gana Data Journalism Awards 2016” por @LIFdigital https://t.co/ipjP4v3G67  #DDHH4G',\n",
       " \"Biggest leak in the history of data journalism just went live, and it's about Twitter.\",\n",
       " '@bengoldacre But not what it claims to be: it is based on data on deaths in Baghdad from 2004-09, not car bombs https://t.co/e17nNk5vzU',\n",
       " 'Top story: Wikileaks Iraq: data journalism maps every death | World news | theg… https://t.co/za8ui7CbGk, see more https://t.co/EQcKecsw9z',\n",
       " 'The latest Data Journalism Daily! https://t.co/dkM1nYl3aQ Thanks to @numeroteca @macloo @timetric #twitter #opendata',\n",
       " '@WladimirPulgarG parece que la información era real  https://t.co/7jkVntVsSc',\n",
       " '@CindyYassen @guardian the link seems not working .. I think you mean this article https://t.co/WWtZeYzSNt',\n",
       " \"@ndimichino OK, thanks. Here's the source. https://t.co/G0fcZfg286 Awful, but not necessarily car bombs. @ianbremmer should probably delete.\",\n",
       " 'Correction from @rezahakbari: deaths mapped (not bombs) https://t.co/QPlPHqIrd7 https://t.co/fYY3fVAM4C',\n",
       " \"Biggest leak in the history of data journalism just went live, and it's about BernieBros.\",\n",
       " '@iraqiblogger https://t.co/Xa5bXwC5I4',\n",
       " '.@univmiami conference to explore intersection of #datajournalism and digital humanities https://t.co/IWhDM9szOS #ddj #data',\n",
       " \".@wikileaks Iraq war logs map showing almost every deadly attack in \\n#Iraq between '04 - '09 https://t.co/097W9Fi27O https://t.co/jpVvXDLKJ5\",\n",
       " '@BLewak @damiabaran To stara mapa eksplozji IED (improwizowanych ład. wyb.) Obejmuje lata 2004-09 czyli po inwazji https://t.co/nzTyiFf29I',\n",
       " '8 Fantastic Examples of Data Journalism https://t.co/wxXIOf1QmQ #bigdata #datascience',\n",
       " \"@Rhiannon @AntoniaZ Original source. I've sent out a few corrections. It maps the number of deaths not car bombs https://t.co/oBXNpXJP7D\",\n",
       " '8 fantastic examples of data journalism - https://t.co/1lTC5UiRRn https://t.co/vOqVOUmnCl',\n",
       " 'Die Karte deren Screenshot aktuell rumgeht. https://t.co/GQzCvxTydD #Baghdad #Iraq #NaherOsten',\n",
       " 'Mapa de los coches bomba que han explotado en Bagdad desde 2003. Feliz 4 de julio, USA! https://t.co/u0IMTZVjhu https://t.co/XzdtdsG1yw',\n",
       " 'MSc Public Policy and Management student @amrsobhy  shortlisted for internationally renowned Data Journalism Award https://t.co/JTxMvMyvjd',\n",
       " \"Correction: https://t.co/oRKKPmYGPq\\nIt's total casualties 2004-2009 apologies  https://t.co/3WbZNJT1kN\",\n",
       " '@mondoke perdón de nuevo! The Guardian: https://t.co/yCqFTmWNcK',\n",
       " '@thehog316 @RitaPanahi source: https://t.co/3bIrKAC8Bs',\n",
       " \"@raziaiqbal @casparhenderson it's actually total casualties 2004-2009. https://t.co/0HzRYf7kfX\",\n",
       " '“Panama Papers gana Data Journalism Awards 2016” por @LIFdigital https://t.co/ipjP4v3G67  #DDHH4G',\n",
       " 'Il data journalism: cosa può insegnare ai blogger https://t.co/lUo0qsKK7W',\n",
       " '8 Fantastic Examples of Data Journalism https://t.co/76ztflmPrW #bigdata #datascience',\n",
       " 'This is the kind of data journalism this country needs https://t.co/mY0fX8rcQG',\n",
       " 'Neo Technology Launches Neo4j #Data #Journalism Accelerator Program at IRE Conference https://t.co/jGX1DHP2w9',\n",
       " '#Wikileaks Iraq: #data journalism maps every death - via @GuardianData  https://t.co/GjtJJepDCP',\n",
       " 'Betapa mengerikannya hidup di Irak\\nhttps://t.co/RP5AtI6UQU',\n",
       " '#Data Journalism: A Simple Guide for Marketers https://t.co/2ECb3Ko7xo @DholakiyaPratik #contentmarketing #inboundmarketing',\n",
       " 'Come cambia il data journalism, il caso di The Office for Creative Research https://t.co/M5e07hcoO6 https://t.co/7ChK7vvZ7G',\n",
       " 'Props to @tulsaworld for good data #journalism https://t.co/NFkdPV9dFU',\n",
       " 'PIAZZA DIGITALE Come cambia il data journalism,  il caso di The Office for Creative Research: di Cecilia Muss... https://t.co/YHcyOO7WaN',\n",
       " 'That map making the rounds is a map of all incidents from the Wikileaks Iraq documents: https://t.co/94tGFuP4ik',\n",
       " '@jmalsin I believe it is this: https://t.co/BsU62MZvPk',\n",
       " 'Horrific but misleading. The map appears to be based on 2004-09 data on deaths in #Baghdad https://t.co/e17nNk5vzU https://t.co/wxp2oVdxdG',\n",
       " '“Data Journalism: The New Normal in Kenya” https://t.co/dZi7gDKP65 by @idajooste #datajournalism #journalism #Kenya https://t.co/QMTmXDH6G1',\n",
       " '@fdbedout @EccehomoSetrina @rezahakbari Además de explosiones variadas incluye accidentes o ataques de la coalición https://t.co/JhIAxSM4q8',\n",
       " \"Biggest leak in the history of data journalism just went live, and it's about autism which causes vaccines.\",\n",
       " 'Data Journalism: A Simple Guide for Marketers https://t.co/Xm3KKRoFY9',\n",
       " '@dlgriffiths @Worldwidewebb1 and a bit misleading. Those are actually deaths in Baghdad from 2004 to 2009 https://t.co/pucJqV7fT1',\n",
       " '@rezahakbari https://t.co/Qoegj08cDK',\n",
       " 'A sobering list of deaths and attacks in Iraq - most recent car bomb death toll now at least 165 https://t.co/3NBCEg7kZe',\n",
       " 'Nein. Diese Karte ist 1. sechs Jahre alt und zeigt 2. nicht Autobomben in Bagdad. https://t.co/s8uG4QFfrP https://t.co/dNhJxhoJvM',\n",
       " 'PT: Here is the dataset being used for the map: https://t.co/pucJqV7fT1',\n",
       " '\\uf0a7Expertise in the use of social media, data journalism and online newsroom tools\\n\\n#JobSeekersSA',\n",
       " '@fxmenage @ianbremmer vieille et mauvaise donnée... morts (2004 à 2009) pas voitures piégées\\nhttps://t.co/TGAioEtN7I',\n",
       " \"Quand une data est mal partagée...\\nCeci n'est pas la carte des voitures piégées de Bagdad\\nhttps://t.co/TGAioEtN7I https://t.co/wNzZXT54Jh\",\n",
       " 'Seeking advice on moving into a career in data science or data journalism. Any advice or introductions?',\n",
       " '\"Data Journalism: A Simple Guide for Marketers\"  https://t.co/qnGqlXlz3k #marketing #feedly',\n",
       " \"@rezahakbari @paulcng Cette carte date de 2010, je n'ai pas l'impression qu'elle ait été actualisée depuis : https://t.co/vrsbHNcP3F\",\n",
       " '@normis Ciniski, bet pēc šī https://t.co/Eb93SmWyBn tas izskatās pēc vēl vienas ailīte ekselī. Tā vairs nav viņu pašu atrisināma problēma.',\n",
       " 'Alleine zwischen 2004 und 2009 starben in Bagdad 45.000 Menschen. Keine Straße ist sicher. (https://t.co/SpVNkxVvx0) https://t.co/EdJfzw4H2i',\n",
       " 'Cartographie des décès dans la région de Bagdad - https://t.co/TGMXwYadeW',\n",
       " '@andrisweb Kartē ir atzīmēti cilvēku upuri kopš ASV iebrukuma, nevis car-bombings.  Iesaku ar avotiem iepazīties. https://t.co/V11rQuHS8T',\n",
       " '“Panama Papers gana Data Journalism Awards 2016” por @LIFdigital https://t.co/ipjP4v3G67  #DDHH4G',\n",
       " 'Data Journalism: A Simple Guide for Marketers via @HubSpot https://t.co/3vGbN7h3t4',\n",
       " 'Six ways to generate data journalism stories https://t.co/62GBDcIhrW #ddj #',\n",
       " 'Een kaart met daarop locaties van alle ontplofte autobommen in Bagdad. #zucht\\n\\nhttps://t.co/jMCKL4u4As https://t.co/HtZjaSUleS',\n",
       " 'Top Ten #ddj: The Week’s Most Popular Data Journalism Links https://t.co/FuMYXglSWb',\n",
       " 'Data-driven journalism Top 10: Brexit, Aleph data search tool, spacial data &amp; more https://t.co/ItaZ0ujn9O #ddj https://t.co/PkdjHLEzVj',\n",
       " \"First time I've seen in a long history of data journalism just went live, and it's about corruption.\",\n",
       " 'What’s missing from data journalism education and how we can improve the field https://t.co/KM34kmtVWU via @knightfdn',\n",
       " '@smurray38 The sort of data journalism we can actually use. @jarodhitchcock',\n",
       " \"EMT course tech needs announced. We'll be working with virtual reality &amp; data journalism too. #profbclass #ICDMC16 https://t.co/gOs0Tt9pGf\",\n",
       " \"EMT course tech needs announced. We'll be working with virtual reality &amp; data journalism too. #profbclass #ICDMC16 https://t.co/NYUL10f7Og\",\n",
       " \"Biggest leak in the history of data journalism just went live, and it's about autism which causes vaccines.\",\n",
       " 'Data Journalism: A Simple Guide for Marketers https://t.co/UOLos3LeE7',\n",
       " 'Public #Trello cards for #DataScience , data journalism and more \\nhttps://t.co/lzvKZelPfm \\n#ddj #DataScientist #BigData',\n",
       " 'The @univmiami conference to explore intersection of #datajournalism and digital humanities https://t.co/ZEkTbnBrXS #ddj #data #theu #Miami',\n",
       " 'Top Ten #ddj: The Week’s Most Popular Data Journalism Links https://t.co/BzHpMHsc10 vía @gijn',\n",
       " '#DataJournalism: @Kit_Smith explores what it can do for your content marketing: https://t.co/jSVVEXQkV8 https://t.co/nYsbzePWeT',\n",
       " '8 Fantastic Examples of Data Journalism https://t.co/nZgoppOZWN #bigdata #datascience',\n",
       " 'Top Ten #ddj: The Week’s Most Popular Data Journalism Links #RealJournalism https://t.co/ugoHqnEC5q',\n",
       " 'Christo Floating Piers Data Journalism @LaStampa Catchy https://t.co/34lrI7Ayxw',\n",
       " 'Data-driven journalism Top 10: Brexit; Aleph data search tool; spacial data &amp; more https://t.co/ItaZ0ujn9O #ddj https://t.co/PkdjHLEzVj',\n",
       " 'Wikileaks Iraq: data journalism maps every death https://t.co/33pJlA24Nv #dataviz https://t.co/b93RurtN8G',\n",
       " '#dataisbeautiful: Wikileaks Iraq: data journalism maps every death | https://t.co/i3l6ZjuKtO https://t.co/eIw01u6rJm',\n",
       " '#Data is Beautiful! \"Wikileaks Iraq: data journalism maps every death\". Discuss: https://t.co/4ST57q9log https://t.co/wLqcX6svrm',\n",
       " 'Data Journalism: A Simple Guide for Marketers https://t.co/x8pIF8rtMh via @hubspot @DholakiyaPratik',\n",
       " 'Wikileaks Iraq: data journalism maps every death https://t.co/f0J6RVKEJA',\n",
       " 'Wikileaks Iraq: data journalism maps every death via /r/dataisbeautiful https://t.co/2Gm2Q7JeBg https://t.co/28NhmokkqI',\n",
       " 'The latest Data Journalism! https://t.co/qN98ek9nYS #insideoutusa #contentmarketing',\n",
       " 'Depressing stats:\\nhttps://t.co/uiFQaUefjS',\n",
       " \"Biggest leak in the history of data journalism just went live, and it's about The Zodiac Killer.\",\n",
       " 'Wikileaks Iraq: data journalism maps every death https://t.co/XmiQTbZkDo',\n",
       " 'Using Data Journalism for Content Marketing - https://t.co/iPtzWPqyTJ #Data #ContentMarketing #Analytics #Research',\n",
       " '“Panama Papers gana Data Journalism Awards 2016” por @LIFdigital https://t.co/ipjP4v3G67  #DDHH4G',\n",
       " 'Data Journalism: A Simple Guide for Marketers https://t.co/w9uHCXtAZ9 https://t.co/DMImBSLTfE',\n",
       " 'The latest Data Journalism! https://t.co/moNhOKnSPs Thanks to @TheInsightBee @vikesverkko #journalism #datajournalism',\n",
       " \"Biggest leak in the history of data journalism just went live, and it's about Cards Against Humanity.\",\n",
       " 'Data Journalism Awards celebrate evidence-based questioning in our society https://t.co/jToiOpgKxq @euroscientist https://t.co/YIIEf3vKd5',\n",
       " 'Data Journalism: A Simple Guide for Marketers https://t.co/5Ju2NpNrCd',\n",
       " 'Data Journalism: A Simple Guide for Marketers https://t.co/dUDT2qEWWV',\n",
       " 'Data Journalism: A Simple Guide for Marketers https://t.co/jOtB1WCDgX via @hubspot @DholakiyaPratik #Startup #Marketing #GrowthHacking',\n",
       " 'How one Mexican data team uncovered the story of 4,000 missing women https://t.co/vwALimBe7q via @wordpressdotcom',\n",
       " 'And a great example of old-school reporting combined with data journalism by @MattNippert\\nand @Caleb_T https://t.co/JCJ7xiRULT @nzherald',\n",
       " '[PDF] \"DOWNLOAD\" The Data Journalism Handbook Free https://t.co/XrlIpcRgYg #ddj #',\n",
       " '“Panama Papers gana Data Journalism Awards 2016” por @LIFdigital https://t.co/ipjP4v3G67  #DDHH4G',\n",
       " \"Biggest leak in the history of data journalism just went live, and it's about Twitter.\",\n",
       " '@bengoldacre But not what it claims to be: it is based on data on deaths in Baghdad from 2004-09, not car bombs https://t.co/e17nNk5vzU',\n",
       " 'Top story: Wikileaks Iraq: data journalism maps every death | World news | theg… https://t.co/za8ui7CbGk, see more https://t.co/EQcKecsw9z',\n",
       " 'The latest Data Journalism Daily! https://t.co/dkM1nYl3aQ Thanks to @numeroteca @macloo @timetric #twitter #opendata',\n",
       " '@WladimirPulgarG parece que la información era real  https://t.co/7jkVntVsSc',\n",
       " '@CindyYassen @guardian the link seems not working .. I think you mean this article https://t.co/WWtZeYzSNt',\n",
       " \"@ndimichino OK, thanks. Here's the source. https://t.co/G0fcZfg286 Awful, but not necessarily car bombs. @ianbremmer should probably delete.\",\n",
       " 'Correction from @rezahakbari: deaths mapped (not bombs) https://t.co/QPlPHqIrd7 https://t.co/fYY3fVAM4C',\n",
       " \"Biggest leak in the history of data journalism just went live, and it's about BernieBros.\",\n",
       " '@iraqiblogger https://t.co/Xa5bXwC5I4',\n",
       " '.@univmiami conference to explore intersection of #datajournalism and digital humanities https://t.co/IWhDM9szOS #ddj #data',\n",
       " \".@wikileaks Iraq war logs map showing almost every deadly attack in \\n#Iraq between '04 - '09 https://t.co/097W9Fi27O https://t.co/jpVvXDLKJ5\",\n",
       " '@BLewak @damiabaran To stara mapa eksplozji IED (improwizowanych ład. wyb.) Obejmuje lata 2004-09 czyli po inwazji https://t.co/nzTyiFf29I',\n",
       " '8 Fantastic Examples of Data Journalism https://t.co/wxXIOf1QmQ #bigdata #datascience',\n",
       " \"@Rhiannon @AntoniaZ Original source. I've sent out a few corrections. It maps the number of deaths not car bombs https://t.co/oBXNpXJP7D\",\n",
       " '8 fantastic examples of data journalism - https://t.co/1lTC5UiRRn https://t.co/vOqVOUmnCl',\n",
       " 'Die Karte deren Screenshot aktuell rumgeht. https://t.co/GQzCvxTydD #Baghdad #Iraq #NaherOsten',\n",
       " 'Mapa de los coches bomba que han explotado en Bagdad desde 2003. Feliz 4 de julio, USA! https://t.co/u0IMTZVjhu https://t.co/XzdtdsG1yw',\n",
       " 'MSc Public Policy and Management student @amrsobhy  shortlisted for internationally renowned Data Journalism Award https://t.co/JTxMvMyvjd',\n",
       " \"Correction: https://t.co/oRKKPmYGPq\\nIt's total casualties 2004-2009 apologies  https://t.co/3WbZNJT1kN\",\n",
       " '@mondoke perdón de nuevo! The Guardian: https://t.co/yCqFTmWNcK',\n",
       " '@thehog316 @RitaPanahi source: https://t.co/3bIrKAC8Bs',\n",
       " \"@raziaiqbal @casparhenderson it's actually total casualties 2004-2009. https://t.co/0HzRYf7kfX\",\n",
       " '“Panama Papers gana Data Journalism Awards 2016” por @LIFdigital https://t.co/ipjP4v3G67  #DDHH4G',\n",
       " 'Il data journalism: cosa può insegnare ai blogger https://t.co/lUo0qsKK7W',\n",
       " '8 Fantastic Examples of Data Journalism https://t.co/76ztflmPrW #bigdata #datascience',\n",
       " 'This is the kind of data journalism this country needs https://t.co/mY0fX8rcQG',\n",
       " 'Neo Technology Launches Neo4j #Data #Journalism Accelerator Program at IRE Conference https://t.co/jGX1DHP2w9',\n",
       " '#Wikileaks Iraq: #data journalism maps every death - via @GuardianData  https://t.co/GjtJJepDCP',\n",
       " 'Betapa mengerikannya hidup di Irak\\nhttps://t.co/RP5AtI6UQU',\n",
       " '#Data Journalism: A Simple Guide for Marketers https://t.co/2ECb3Ko7xo @DholakiyaPratik #contentmarketing #inboundmarketing',\n",
       " 'Come cambia il data journalism, il caso di The Office for Creative Research https://t.co/M5e07hcoO6 https://t.co/7ChK7vvZ7G',\n",
       " 'Props to @tulsaworld for good data #journalism https://t.co/NFkdPV9dFU',\n",
       " 'PIAZZA DIGITALE Come cambia il data journalism,  il caso di The Office for Creative Research: di Cecilia Muss... https://t.co/YHcyOO7WaN',\n",
       " 'That map making the rounds is a map of all incidents from the Wikileaks Iraq documents: https://t.co/94tGFuP4ik',\n",
       " '@jmalsin I believe it is this: https://t.co/BsU62MZvPk',\n",
       " 'Horrific but misleading. The map appears to be based on 2004-09 data on deaths in #Baghdad https://t.co/e17nNk5vzU https://t.co/wxp2oVdxdG',\n",
       " '“Data Journalism: The New Normal in Kenya” https://t.co/dZi7gDKP65 by @idajooste #datajournalism #journalism #Kenya https://t.co/QMTmXDH6G1',\n",
       " '@fdbedout @EccehomoSetrina @rezahakbari Además de explosiones variadas incluye accidentes o ataques de la coalición https://t.co/JhIAxSM4q8',\n",
       " \"Biggest leak in the history of data journalism just went live, and it's about autism which causes vaccines.\",\n",
       " 'Data Journalism: A Simple Guide for Marketers https://t.co/Xm3KKRoFY9',\n",
       " '@dlgriffiths @Worldwidewebb1 and a bit misleading. Those are actually deaths in Baghdad from 2004 to 2009 https://t.co/pucJqV7fT1',\n",
       " '@rezahakbari https://t.co/Qoegj08cDK',\n",
       " 'A sobering list of deaths and attacks in Iraq - most recent car bomb death toll now at least 165 https://t.co/3NBCEg7kZe',\n",
       " 'Nein. Diese Karte ist 1. sechs Jahre alt und zeigt 2. nicht Autobomben in Bagdad. https://t.co/s8uG4QFfrP https://t.co/dNhJxhoJvM',\n",
       " 'PT: Here is the dataset being used for the map: https://t.co/pucJqV7fT1',\n",
       " '\\uf0a7Expertise in the use of social media, data journalism and online newsroom tools\\n\\n#JobSeekersSA',\n",
       " '@fxmenage @ianbremmer vieille et mauvaise donnée... morts (2004 à 2009) pas voitures piégées\\nhttps://t.co/TGAioEtN7I',\n",
       " \"Quand une data est mal partagée...\\nCeci n'est pas la carte des voitures piégées de Bagdad\\nhttps://t.co/TGAioEtN7I https://t.co/wNzZXT54Jh\",\n",
       " 'Seeking advice on moving into a career in data science or data journalism. Any advice or introductions?',\n",
       " '\"Data Journalism: A Simple Guide for Marketers\"  https://t.co/qnGqlXlz3k #marketing #feedly',\n",
       " \"@rezahakbari @paulcng Cette carte date de 2010, je n'ai pas l'impression qu'elle ait été actualisée depuis : https://t.co/vrsbHNcP3F\",\n",
       " '@normis Ciniski, bet pēc šī https://t.co/Eb93SmWyBn tas izskatās pēc vēl vienas ailīte ekselī. Tā vairs nav viņu pašu atrisināma problēma.',\n",
       " 'Alleine zwischen 2004 und 2009 starben in Bagdad 45.000 Menschen. Keine Straße ist sicher. (https://t.co/SpVNkxVvx0) https://t.co/EdJfzw4H2i',\n",
       " 'Cartographie des décès dans la région de Bagdad - https://t.co/TGMXwYadeW',\n",
       " '@andrisweb Kartē ir atzīmēti cilvēku upuri kopš ASV iebrukuma, nevis car-bombings.  Iesaku ar avotiem iepazīties. https://t.co/V11rQuHS8T',\n",
       " '“Panama Papers gana Data Journalism Awards 2016” por @LIFdigital https://t.co/ipjP4v3G67  #DDHH4G',\n",
       " 'Data Journalism: A Simple Guide for Marketers via @HubSpot https://t.co/3vGbN7h3t4',\n",
       " 'Six ways to generate data journalism stories https://t.co/62GBDcIhrW #ddj #',\n",
       " 'Een kaart met daarop locaties van alle ontplofte autobommen in Bagdad. #zucht\\n\\nhttps://t.co/jMCKL4u4As https://t.co/HtZjaSUleS',\n",
       " 'Top Ten #ddj: The Week’s Most Popular Data Journalism Links https://t.co/FuMYXglSWb',\n",
       " 'Data-driven journalism Top 10: Brexit, Aleph data search tool, spacial data &amp; more https://t.co/ItaZ0ujn9O #ddj https://t.co/PkdjHLEzVj',\n",
       " \"First time I've seen in a long history of data journalism just went live, and it's about corruption.\",\n",
       " 'What’s missing from data journalism education and how we can improve the field https://t.co/KM34kmtVWU via @knightfdn',\n",
       " '@smurray38 The sort of data journalism we can actually use. @jarodhitchcock',\n",
       " \"EMT course tech needs announced. We'll be working with virtual reality &amp; data journalism too. #profbclass #ICDMC16 https://t.co/gOs0Tt9pGf\",\n",
       " \"EMT course tech needs announced. We'll be working with virtual reality &amp; data journalism too. #profbclass #ICDMC16 https://t.co/NYUL10f7Og\",\n",
       " \"Biggest leak in the history of data journalism just went live, and it's about autism which causes vaccines.\",\n",
       " 'Data Journalism: A Simple Guide for Marketers https://t.co/UOLos3LeE7',\n",
       " 'Public #Trello cards for #DataScience , data journalism and more \\nhttps://t.co/lzvKZelPfm \\n#ddj #DataScientist #BigData',\n",
       " 'The @univmiami conference to explore intersection of #datajournalism and digital humanities https://t.co/ZEkTbnBrXS #ddj #data #theu #Miami',\n",
       " 'Top Ten #ddj: The Week’s Most Popular Data Journalism Links https://t.co/BzHpMHsc10 vía @gijn',\n",
       " '#DataJournalism: @Kit_Smith explores what it can do for your content marketing: https://t.co/jSVVEXQkV8 https://t.co/nYsbzePWeT',\n",
       " '8 Fantastic Examples of Data Journalism https://t.co/nZgoppOZWN #bigdata #datascience',\n",
       " 'Top Ten #ddj: The Week’s Most Popular Data Journalism Links #RealJournalism https://t.co/ugoHqnEC5q',\n",
       " 'Christo Floating Piers Data Journalism @LaStampa Catchy https://t.co/34lrI7Ayxw',\n",
       " 'Data-driven journalism Top 10: Brexit; Aleph data search tool; spacial data &amp; more https://t.co/ItaZ0ujn9O #ddj https://t.co/PkdjHLEzVj',\n",
       " 'Wikileaks Iraq: data journalism maps every death https://t.co/33pJlA24Nv #dataviz https://t.co/b93RurtN8G',\n",
       " '#dataisbeautiful: Wikileaks Iraq: data journalism maps every death | https://t.co/i3l6ZjuKtO https://t.co/eIw01u6rJm',\n",
       " '#Data is Beautiful! \"Wikileaks Iraq: data journalism maps every death\". Discuss: https://t.co/4ST57q9log https://t.co/wLqcX6svrm',\n",
       " 'Data Journalism: A Simple Guide for Marketers https://t.co/x8pIF8rtMh via @hubspot @DholakiyaPratik',\n",
       " 'Wikileaks Iraq: data journalism maps every death https://t.co/f0J6RVKEJA',\n",
       " 'Wikileaks Iraq: data journalism maps every death via /r/dataisbeautiful https://t.co/2Gm2Q7JeBg https://t.co/28NhmokkqI',\n",
       " 'The latest Data Journalism! https://t.co/qN98ek9nYS #insideoutusa #contentmarketing',\n",
       " 'Depressing stats:\\nhttps://t.co/uiFQaUefjS',\n",
       " \"Biggest leak in the history of data journalism just went live, and it's about The Zodiac Killer.\",\n",
       " 'Wikileaks Iraq: data journalism maps every death https://t.co/XmiQTbZkDo',\n",
       " 'Using Data Journalism for Content Marketing - https://t.co/iPtzWPqyTJ #Data #ContentMarketing #Analytics #Research',\n",
       " '“Panama Papers gana Data Journalism Awards 2016” por @LIFdigital https://t.co/ipjP4v3G67  #DDHH4G',\n",
       " 'Data Journalism: A Simple Guide for Marketers https://t.co/w9uHCXtAZ9 https://t.co/DMImBSLTfE',\n",
       " 'The latest Data Journalism! https://t.co/moNhOKnSPs Thanks to @TheInsightBee @vikesverkko #journalism #datajournalism',\n",
       " \"Biggest leak in the history of data journalism just went live, and it's about Cards Against Humanity.\",\n",
       " 'Data Journalism Awards celebrate evidence-based questioning in our society https://t.co/jToiOpgKxq @euroscientist https://t.co/YIIEf3vKd5',\n",
       " 'Data Journalism: A Simple Guide for Marketers https://t.co/5Ju2NpNrCd',\n",
       " 'Data Journalism: A Simple Guide for Marketers https://t.co/dUDT2qEWWV',\n",
       " 'Data Journalism: A Simple Guide for Marketers https://t.co/jOtB1WCDgX via @hubspot @DholakiyaPratik #Startup #Marketing #GrowthHacking',\n",
       " 'How one Mexican data team uncovered the story of 4,000 missing women https://t.co/vwALimBe7q via @wordpressdotcom',\n",
       " 'And a great example of old-school reporting combined with data journalism by @MattNippert\\nand @Caleb_T https://t.co/JCJ7xiRULT @nzherald',\n",
       " '[PDF] \"DOWNLOAD\" The Data Journalism Handbook Free https://t.co/XrlIpcRgYg #ddj #',\n",
       " '“Panama Papers gana Data Journalism Awards 2016” por @LIFdigital https://t.co/ipjP4v3G67  #DDHH4G',\n",
       " \"Biggest leak in the history of data journalism just went live, and it's about Twitter.\",\n",
       " '@bengoldacre But not what it claims to be: it is based on data on deaths in Baghdad from 2004-09, not car bombs https://t.co/e17nNk5vzU',\n",
       " 'Top story: Wikileaks Iraq: data journalism maps every death | World news | theg… https://t.co/za8ui7CbGk, see more https://t.co/EQcKecsw9z',\n",
       " 'The latest Data Journalism Daily! https://t.co/dkM1nYl3aQ Thanks to @numeroteca @macloo @timetric #twitter #opendata',\n",
       " '@WladimirPulgarG parece que la información era real  https://t.co/7jkVntVsSc',\n",
       " '@CindyYassen @guardian the link seems not working .. I think you mean this article https://t.co/WWtZeYzSNt',\n",
       " \"@ndimichino OK, thanks. Here's the source. https://t.co/G0fcZfg286 Awful, but not necessarily car bombs. @ianbremmer should probably delete.\",\n",
       " 'Correction from @rezahakbari: deaths mapped (not bombs) https://t.co/QPlPHqIrd7 https://t.co/fYY3fVAM4C',\n",
       " \"Biggest leak in the history of data journalism just went live, and it's about BernieBros.\",\n",
       " '@iraqiblogger https://t.co/Xa5bXwC5I4',\n",
       " '.@univmiami conference to explore intersection of #datajournalism and digital humanities https://t.co/IWhDM9szOS #ddj #data',\n",
       " \".@wikileaks Iraq war logs map showing almost every deadly attack in \\n#Iraq between '04 - '09 https://t.co/097W9Fi27O https://t.co/jpVvXDLKJ5\",\n",
       " '@BLewak @damiabaran To stara mapa eksplozji IED (improwizowanych ład. wyb.) Obejmuje lata 2004-09 czyli po inwazji https://t.co/nzTyiFf29I',\n",
       " '8 Fantastic Examples of Data Journalism https://t.co/wxXIOf1QmQ #bigdata #datascience',\n",
       " \"@Rhiannon @AntoniaZ Original source. I've sent out a few corrections. It maps the number of deaths not car bombs https://t.co/oBXNpXJP7D\",\n",
       " '8 fantastic examples of data journalism - https://t.co/1lTC5UiRRn https://t.co/vOqVOUmnCl',\n",
       " 'Die Karte deren Screenshot aktuell rumgeht. https://t.co/GQzCvxTydD #Baghdad #Iraq #NaherOsten',\n",
       " 'Mapa de los coches bomba que han explotado en Bagdad desde 2003. Feliz 4 de julio, USA! https://t.co/u0IMTZVjhu https://t.co/XzdtdsG1yw',\n",
       " 'MSc Public Policy and Management student @amrsobhy  shortlisted for internationally renowned Data Journalism Award https://t.co/JTxMvMyvjd',\n",
       " \"Correction: https://t.co/oRKKPmYGPq\\nIt's total casualties 2004-2009 apologies  https://t.co/3WbZNJT1kN\",\n",
       " '@mondoke perdón de nuevo! The Guardian: https://t.co/yCqFTmWNcK',\n",
       " '@thehog316 @RitaPanahi source: https://t.co/3bIrKAC8Bs',\n",
       " \"@raziaiqbal @casparhenderson it's actually total casualties 2004-2009. https://t.co/0HzRYf7kfX\",\n",
       " '“Panama Papers gana Data Journalism Awards 2016” por @LIFdigital https://t.co/ipjP4v3G67  #DDHH4G',\n",
       " 'Il data journalism: cosa può insegnare ai blogger https://t.co/lUo0qsKK7W',\n",
       " '8 Fantastic Examples of Data Journalism https://t.co/76ztflmPrW #bigdata #datascience',\n",
       " 'This is the kind of data journalism this country needs https://t.co/mY0fX8rcQG',\n",
       " 'Neo Technology Launches Neo4j #Data #Journalism Accelerator Program at IRE Conference https://t.co/jGX1DHP2w9',\n",
       " '#Wikileaks Iraq: #data journalism maps every death - via @GuardianData  https://t.co/GjtJJepDCP',\n",
       " 'Betapa mengerikannya hidup di Irak\\nhttps://t.co/RP5AtI6UQU',\n",
       " '#Data Journalism: A Simple Guide for Marketers https://t.co/2ECb3Ko7xo @DholakiyaPratik #contentmarketing #inboundmarketing',\n",
       " 'Come cambia il data journalism, il caso di The Office for Creative Research https://t.co/M5e07hcoO6 https://t.co/7ChK7vvZ7G',\n",
       " 'Props to @tulsaworld for good data #journalism https://t.co/NFkdPV9dFU',\n",
       " 'PIAZZA DIGITALE Come cambia il data journalism,  il caso di The Office for Creative Research: di Cecilia Muss... https://t.co/YHcyOO7WaN',\n",
       " 'That map making the rounds is a map of all incidents from the Wikileaks Iraq documents: https://t.co/94tGFuP4ik',\n",
       " '@jmalsin I believe it is this: https://t.co/BsU62MZvPk',\n",
       " 'Horrific but misleading. The map appears to be based on 2004-09 data on deaths in #Baghdad https://t.co/e17nNk5vzU https://t.co/wxp2oVdxdG',\n",
       " '“Data Journalism: The New Normal in Kenya” https://t.co/dZi7gDKP65 by @idajooste #datajournalism #journalism #Kenya https://t.co/QMTmXDH6G1',\n",
       " '@fdbedout @EccehomoSetrina @rezahakbari Además de explosiones variadas incluye accidentes o ataques de la coalición https://t.co/JhIAxSM4q8',\n",
       " \"Biggest leak in the history of data journalism just went live, and it's about autism which causes vaccines.\",\n",
       " 'Data Journalism: A Simple Guide for Marketers https://t.co/Xm3KKRoFY9',\n",
       " '@dlgriffiths @Worldwidewebb1 and a bit misleading. Those are actually deaths in Baghdad from 2004 to 2009 https://t.co/pucJqV7fT1',\n",
       " '@rezahakbari https://t.co/Qoegj08cDK',\n",
       " 'A sobering list of deaths and attacks in Iraq - most recent car bomb death toll now at least 165 https://t.co/3NBCEg7kZe',\n",
       " 'Nein. Diese Karte ist 1. sechs Jahre alt und zeigt 2. nicht Autobomben in Bagdad. https://t.co/s8uG4QFfrP https://t.co/dNhJxhoJvM',\n",
       " 'PT: Here is the dataset being used for the map: https://t.co/pucJqV7fT1',\n",
       " '\\uf0a7Expertise in the use of social media, data journalism and online newsroom tools\\n\\n#JobSeekersSA',\n",
       " '@fxmenage @ianbremmer vieille et mauvaise donnée... morts (2004 à 2009) pas voitures piégées\\nhttps://t.co/TGAioEtN7I',\n",
       " \"Quand une data est mal partagée...\\nCeci n'est pas la carte des voitures piégées de Bagdad\\nhttps://t.co/TGAioEtN7I https://t.co/wNzZXT54Jh\",\n",
       " 'Seeking advice on moving into a career in data science or data journalism. Any advice or introductions?',\n",
       " '\"Data Journalism: A Simple Guide for Marketers\"  https://t.co/qnGqlXlz3k #marketing #feedly',\n",
       " \"@rezahakbari @paulcng Cette carte date de 2010, je n'ai pas l'impression qu'elle ait été actualisée depuis : https://t.co/vrsbHNcP3F\",\n",
       " '@normis Ciniski, bet pēc šī https://t.co/Eb93SmWyBn tas izskatās pēc vēl vienas ailīte ekselī. Tā vairs nav viņu pašu atrisināma problēma.',\n",
       " 'Alleine zwischen 2004 und 2009 starben in Bagdad 45.000 Menschen. Keine Straße ist sicher. (https://t.co/SpVNkxVvx0) https://t.co/EdJfzw4H2i',\n",
       " 'Cartographie des décès dans la région de Bagdad - https://t.co/TGMXwYadeW',\n",
       " '@andrisweb Kartē ir atzīmēti cilvēku upuri kopš ASV iebrukuma, nevis car-bombings.  Iesaku ar avotiem iepazīties. https://t.co/V11rQuHS8T',\n",
       " '“Panama Papers gana Data Journalism Awards 2016” por @LIFdigital https://t.co/ipjP4v3G67  #DDHH4G',\n",
       " 'Data Journalism: A Simple Guide for Marketers via @HubSpot https://t.co/3vGbN7h3t4',\n",
       " 'Six ways to generate data journalism stories https://t.co/62GBDcIhrW #ddj #',\n",
       " 'Een kaart met daarop locaties van alle ontplofte autobommen in Bagdad. #zucht\\n\\nhttps://t.co/jMCKL4u4As https://t.co/HtZjaSUleS',\n",
       " 'Top Ten #ddj: The Week’s Most Popular Data Journalism Links https://t.co/FuMYXglSWb',\n",
       " 'Data-driven journalism Top 10: Brexit, Aleph data search tool, spacial data &amp; more https://t.co/ItaZ0ujn9O #ddj https://t.co/PkdjHLEzVj',\n",
       " \"First time I've seen in a long history of data journalism just went live, and it's about corruption.\",\n",
       " 'What’s missing from data journalism education and how we can improve the field https://t.co/KM34kmtVWU via @knightfdn',\n",
       " '@smurray38 The sort of data journalism we can actually use. @jarodhitchcock',\n",
       " \"EMT course tech needs announced. We'll be working with virtual reality &amp; data journalism too. #profbclass #ICDMC16 https://t.co/gOs0Tt9pGf\",\n",
       " \"EMT course tech needs announced. We'll be working with virtual reality &amp; data journalism too. #profbclass #ICDMC16 https://t.co/NYUL10f7Og\",\n",
       " \"Biggest leak in the history of data journalism just went live, and it's about autism which causes vaccines.\",\n",
       " 'Data Journalism: A Simple Guide for Marketers https://t.co/UOLos3LeE7',\n",
       " 'Public #Trello cards for #DataScience , data journalism and more \\nhttps://t.co/lzvKZelPfm \\n#ddj #DataScientist #BigData',\n",
       " 'The @univmiami conference to explore intersection of #datajournalism and digital humanities https://t.co/ZEkTbnBrXS #ddj #data #theu #Miami',\n",
       " 'Top Ten #ddj: The Week’s Most Popular Data Journalism Links https://t.co/BzHpMHsc10 vía @gijn',\n",
       " '#DataJournalism: @Kit_Smith explores what it can do for your content marketing: https://t.co/jSVVEXQkV8 https://t.co/nYsbzePWeT',\n",
       " '8 Fantastic Examples of Data Journalism https://t.co/nZgoppOZWN #bigdata #datascience',\n",
       " 'Top Ten #ddj: The Week’s Most Popular Data Journalism Links #RealJournalism https://t.co/ugoHqnEC5q',\n",
       " 'Christo Floating Piers Data Journalism @LaStampa Catchy https://t.co/34lrI7Ayxw',\n",
       " 'Data-driven journalism Top 10: Brexit; Aleph data search tool; spacial data &amp; more https://t.co/ItaZ0ujn9O #ddj https://t.co/PkdjHLEzVj',\n",
       " 'Wikileaks Iraq: data journalism maps every death https://t.co/33pJlA24Nv #dataviz https://t.co/b93RurtN8G',\n",
       " '#dataisbeautiful: Wikileaks Iraq: data journalism maps every death | https://t.co/i3l6ZjuKtO https://t.co/eIw01u6rJm',\n",
       " '#Data is Beautiful! \"Wikileaks Iraq: data journalism maps every death\". Discuss: https://t.co/4ST57q9log https://t.co/wLqcX6svrm',\n",
       " 'Data Journalism: A Simple Guide for Marketers https://t.co/x8pIF8rtMh via @hubspot @DholakiyaPratik',\n",
       " 'Wikileaks Iraq: data journalism maps every death https://t.co/f0J6RVKEJA',\n",
       " 'Wikileaks Iraq: data journalism maps every death via /r/dataisbeautiful https://t.co/2Gm2Q7JeBg https://t.co/28NhmokkqI',\n",
       " 'The latest Data Journalism! https://t.co/qN98ek9nYS #insideoutusa #contentmarketing',\n",
       " 'Depressing stats:\\nhttps://t.co/uiFQaUefjS',\n",
       " \"Biggest leak in the history of data journalism just went live, and it's about The Zodiac Killer.\",\n",
       " 'Wikileaks Iraq: data journalism maps every death https://t.co/XmiQTbZkDo',\n",
       " 'Using Data Journalism for Content Marketing - https://t.co/iPtzWPqyTJ #Data #ContentMarketing #Analytics #Research',\n",
       " '“Panama Papers gana Data Journalism Awards 2016” por @LIFdigital https://t.co/ipjP4v3G67  #DDHH4G',\n",
       " 'Data Journalism: A Simple Guide for Marketers https://t.co/w9uHCXtAZ9 https://t.co/DMImBSLTfE',\n",
       " 'The latest Data Journalism! https://t.co/moNhOKnSPs Thanks to @TheInsightBee @vikesverkko #journalism #datajournalism',\n",
       " \"Biggest leak in the history of data journalism just went live, and it's about Cards Against Humanity.\",\n",
       " 'Data Journalism Awards celebrate evidence-based questioning in our society https://t.co/jToiOpgKxq @euroscientist https://t.co/YIIEf3vKd5',\n",
       " 'Data Journalism: A Simple Guide for Marketers https://t.co/5Ju2NpNrCd',\n",
       " 'Data Journalism: A Simple Guide for Marketers https://t.co/dUDT2qEWWV',\n",
       " 'Data Journalism: A Simple Guide for Marketers https://t.co/jOtB1WCDgX via @hubspot @DholakiyaPratik #Startup #Marketing #GrowthHacking',\n",
       " 'How one Mexican data team uncovered the story of 4,000 missing women https://t.co/vwALimBe7q via @wordpressdotcom',\n",
       " 'And a great example of old-school reporting combined with data journalism by @MattNippert\\nand @Caleb_T https://t.co/JCJ7xiRULT @nzherald',\n",
       " '[PDF] \"DOWNLOAD\" The Data Journalism Handbook Free https://t.co/XrlIpcRgYg #ddj #',\n",
       " '“Panama Papers gana Data Journalism Awards 2016” por @LIFdigital https://t.co/ipjP4v3G67  #DDHH4G',\n",
       " \"Biggest leak in the history of data journalism just went live, and it's about Twitter.\",\n",
       " '@bengoldacre But not what it claims to be: it is based on data on deaths in Baghdad from 2004-09, not car bombs https://t.co/e17nNk5vzU',\n",
       " 'Top story: Wikileaks Iraq: data journalism maps every death | World news | theg… https://t.co/za8ui7CbGk, see more https://t.co/EQcKecsw9z',\n",
       " 'The latest Data Journalism Daily! https://t.co/dkM1nYl3aQ Thanks to @numeroteca @macloo @timetric #twitter #opendata',\n",
       " '@WladimirPulgarG parece que la información era real  https://t.co/7jkVntVsSc',\n",
       " '@CindyYassen @guardian the link seems not working .. I think you mean this article https://t.co/WWtZeYzSNt',\n",
       " \"@ndimichino OK, thanks. Here's the source. https://t.co/G0fcZfg286 Awful, but not necessarily car bombs. @ianbremmer should probably delete.\",\n",
       " 'Correction from @rezahakbari: deaths mapped (not bombs) https://t.co/QPlPHqIrd7 https://t.co/fYY3fVAM4C',\n",
       " \"Biggest leak in the history of data journalism just went live, and it's about BernieBros.\",\n",
       " '@iraqiblogger https://t.co/Xa5bXwC5I4',\n",
       " '.@univmiami conference to explore intersection of #datajournalism and digital humanities https://t.co/IWhDM9szOS #ddj #data',\n",
       " \".@wikileaks Iraq war logs map showing almost every deadly attack in \\n#Iraq between '04 - '09 https://t.co/097W9Fi27O https://t.co/jpVvXDLKJ5\",\n",
       " '@BLewak @damiabaran To stara mapa eksplozji IED (improwizowanych ład. wyb.) Obejmuje lata 2004-09 czyli po inwazji https://t.co/nzTyiFf29I',\n",
       " '8 Fantastic Examples of Data Journalism https://t.co/wxXIOf1QmQ #bigdata #datascience',\n",
       " \"@Rhiannon @AntoniaZ Original source. I've sent out a few corrections. It maps the number of deaths not car bombs https://t.co/oBXNpXJP7D\",\n",
       " '8 fantastic examples of data journalism - https://t.co/1lTC5UiRRn https://t.co/vOqVOUmnCl',\n",
       " 'Die Karte deren Screenshot aktuell rumgeht. https://t.co/GQzCvxTydD #Baghdad #Iraq #NaherOsten',\n",
       " 'Mapa de los coches bomba que han explotado en Bagdad desde 2003. Feliz 4 de julio, USA! https://t.co/u0IMTZVjhu https://t.co/XzdtdsG1yw',\n",
       " 'MSc Public Policy and Management student @amrsobhy  shortlisted for internationally renowned Data Journalism Award https://t.co/JTxMvMyvjd',\n",
       " \"Correction: https://t.co/oRKKPmYGPq\\nIt's total casualties 2004-2009 apologies  https://t.co/3WbZNJT1kN\",\n",
       " '@mondoke perdón de nuevo! The Guardian: https://t.co/yCqFTmWNcK',\n",
       " '@thehog316 @RitaPanahi source: https://t.co/3bIrKAC8Bs',\n",
       " \"@raziaiqbal @casparhenderson it's actually total casualties 2004-2009. https://t.co/0HzRYf7kfX\",\n",
       " '“Panama Papers gana Data Journalism Awards 2016” por @LIFdigital https://t.co/ipjP4v3G67  #DDHH4G',\n",
       " 'Il data journalism: cosa può insegnare ai blogger https://t.co/lUo0qsKK7W',\n",
       " '8 Fantastic Examples of Data Journalism https://t.co/76ztflmPrW #bigdata #datascience',\n",
       " 'This is the kind of data journalism this country needs https://t.co/mY0fX8rcQG',\n",
       " 'Neo Technology Launches Neo4j #Data #Journalism Accelerator Program at IRE Conference https://t.co/jGX1DHP2w9',\n",
       " '#Wikileaks Iraq: #data journalism maps every death - via @GuardianData  https://t.co/GjtJJepDCP',\n",
       " 'Betapa mengerikannya hidup di Irak\\nhttps://t.co/RP5AtI6UQU',\n",
       " '#Data Journalism: A Simple Guide for Marketers https://t.co/2ECb3Ko7xo @DholakiyaPratik #contentmarketing #inboundmarketing',\n",
       " 'Come cambia il data journalism, il caso di The Office for Creative Research https://t.co/M5e07hcoO6 https://t.co/7ChK7vvZ7G',\n",
       " 'Props to @tulsaworld for good data #journalism https://t.co/NFkdPV9dFU',\n",
       " 'PIAZZA DIGITALE Come cambia il data journalism,  il caso di The Office for Creative Research: di Cecilia Muss... https://t.co/YHcyOO7WaN',\n",
       " 'That map making the rounds is a map of all incidents from the Wikileaks Iraq documents: https://t.co/94tGFuP4ik',\n",
       " '@jmalsin I believe it is this: https://t.co/BsU62MZvPk',\n",
       " 'Horrific but misleading. The map appears to be based on 2004-09 data on deaths in #Baghdad https://t.co/e17nNk5vzU https://t.co/wxp2oVdxdG',\n",
       " '“Data Journalism: The New Normal in Kenya” https://t.co/dZi7gDKP65 by @idajooste #datajournalism #journalism #Kenya https://t.co/QMTmXDH6G1',\n",
       " '@fdbedout @EccehomoSetrina @rezahakbari Además de explosiones variadas incluye accidentes o ataques de la coalición https://t.co/JhIAxSM4q8',\n",
       " \"Biggest leak in the history of data journalism just went live, and it's about autism which causes vaccines.\",\n",
       " 'Data Journalism: A Simple Guide for Marketers https://t.co/Xm3KKRoFY9',\n",
       " '@dlgriffiths @Worldwidewebb1 and a bit misleading. Those are actually deaths in Baghdad from 2004 to 2009 https://t.co/pucJqV7fT1',\n",
       " '@rezahakbari https://t.co/Qoegj08cDK',\n",
       " 'A sobering list of deaths and attacks in Iraq - most recent car bomb death toll now at least 165 https://t.co/3NBCEg7kZe',\n",
       " 'Nein. Diese Karte ist 1. sechs Jahre alt und zeigt 2. nicht Autobomben in Bagdad. https://t.co/s8uG4QFfrP https://t.co/dNhJxhoJvM',\n",
       " 'PT: Here is the dataset being used for the map: https://t.co/pucJqV7fT1',\n",
       " '\\uf0a7Expertise in the use of social media, data journalism and online newsroom tools\\n\\n#JobSeekersSA',\n",
       " '@fxmenage @ianbremmer vieille et mauvaise donnée... morts (2004 à 2009) pas voitures piégées\\nhttps://t.co/TGAioEtN7I',\n",
       " \"Quand une data est mal partagée...\\nCeci n'est pas la carte des voitures piégées de Bagdad\\nhttps://t.co/TGAioEtN7I https://t.co/wNzZXT54Jh\",\n",
       " 'Seeking advice on moving into a career in data science or data journalism. Any advice or introductions?',\n",
       " '\"Data Journalism: A Simple Guide for Marketers\"  https://t.co/qnGqlXlz3k #marketing #feedly',\n",
       " \"@rezahakbari @paulcng Cette carte date de 2010, je n'ai pas l'impression qu'elle ait été actualisée depuis : https://t.co/vrsbHNcP3F\",\n",
       " '@normis Ciniski, bet pēc šī https://t.co/Eb93SmWyBn tas izskatās pēc vēl vienas ailīte ekselī. Tā vairs nav viņu pašu atrisināma problēma.',\n",
       " 'Alleine zwischen 2004 und 2009 starben in Bagdad 45.000 Menschen. Keine Straße ist sicher. (https://t.co/SpVNkxVvx0) https://t.co/EdJfzw4H2i',\n",
       " 'Cartographie des décès dans la région de Bagdad - https://t.co/TGMXwYadeW',\n",
       " '@andrisweb Kartē ir atzīmēti cilvēku upuri kopš ASV iebrukuma, nevis car-bombings.  Iesaku ar avotiem iepazīties. https://t.co/V11rQuHS8T',\n",
       " '“Panama Papers gana Data Journalism Awards 2016” por @LIFdigital https://t.co/ipjP4v3G67  #DDHH4G']"
      ]
     },
     "execution_count": 29,
     "metadata": {},
     "output_type": "execute_result"
    }
   ],
   "source": [
    "all_text"
   ]
  },
  {
   "cell_type": "code",
   "execution_count": 36,
   "metadata": {
    "collapsed": false
   },
   "outputs": [
    {
     "data": {
      "text/plain": [
       "[('data', 190),\n",
       " ('journalism', 135),\n",
       " ('Data', 131),\n",
       " ('Journalism', 81),\n",
       " ('Journalism:', 55),\n",
       " ('Guide', 50),\n",
       " ('Simple', 50),\n",
       " ('maps', 45),\n",
       " ('every', 45),\n",
       " ('Marketers', 45),\n",
       " ('Iraq:', 40),\n",
       " ('death', 40),\n",
       " (\"it's\", 40),\n",
       " ('just', 35),\n",
       " ('#ddj', 35),\n",
       " ('about', 35),\n",
       " ('Wikileaks', 35),\n",
       " ('live,', 35),\n",
       " ('went', 35),\n",
       " ('history', 35),\n",
       " ('Biggest', 30),\n",
       " ('deaths', 30),\n",
       " ('leak', 30),\n",
       " ('Awards', 26),\n",
       " ('from', 25)]"
      ]
     },
     "execution_count": 36,
     "metadata": {},
     "output_type": "execute_result"
    }
   ],
   "source": [
    "from collections import Counter\n",
    "c = Counter()\n",
    "for item in all_text:\n",
    "    c.update([w for w in item.split() if len(w) > 3])\n",
    "c.most_common(25)"
   ]
  },
  {
   "cell_type": "code",
   "execution_count": 31,
   "metadata": {
    "collapsed": true
   },
   "outputs": [],
   "source": [
    "test_counter = Counter()"
   ]
  },
  {
   "cell_type": "code",
   "execution_count": 32,
   "metadata": {
    "collapsed": false
   },
   "outputs": [
    {
     "data": {
      "text/plain": [
       "[]"
      ]
     },
     "execution_count": 32,
     "metadata": {},
     "output_type": "execute_result"
    }
   ],
   "source": [
    "test_counter.most_common()"
   ]
  },
  {
   "cell_type": "code",
   "execution_count": 33,
   "metadata": {
    "collapsed": false
   },
   "outputs": [
    {
     "data": {
      "text/plain": [
       "[('a', 2), ('b', 1), ('c', 1), ('d', 1)]"
      ]
     },
     "execution_count": 33,
     "metadata": {},
     "output_type": "execute_result"
    }
   ],
   "source": [
    "test_counter = Counter([\"a\", \"a\", \"b\", \"c\", \"d\"])\n",
    "test_counter.most_common()"
   ]
  },
  {
   "cell_type": "code",
   "execution_count": 34,
   "metadata": {
    "collapsed": true
   },
   "outputs": [],
   "source": [
    "test_counter.update([\"a\", \"b\", \"e\"])"
   ]
  },
  {
   "cell_type": "code",
   "execution_count": 35,
   "metadata": {
    "collapsed": false
   },
   "outputs": [
    {
     "data": {
      "text/plain": [
       "[('a', 3), ('b', 2), ('c', 1), ('d', 1), ('e', 1)]"
      ]
     },
     "execution_count": 35,
     "metadata": {},
     "output_type": "execute_result"
    }
   ],
   "source": [
    "test_counter.most_common()"
   ]
  },
  {
   "cell_type": "markdown",
   "metadata": {},
   "source": [
    "### entities"
   ]
  },
  {
   "cell_type": "code",
   "execution_count": 37,
   "metadata": {
    "collapsed": true
   },
   "outputs": [],
   "source": [
    "response = twitter.search(q='\"data journalism\"-filter:retweets', count=20)"
   ]
  },
  {
   "cell_type": "code",
   "execution_count": 38,
   "metadata": {
    "collapsed": false
   },
   "outputs": [
    {
     "data": {
      "text/plain": [
       "{'hashtags': [{'indices': [13, 22], 'text': 'useR2016'}],\n",
       " 'symbols': [],\n",
       " 'urls': [{'display_url': 'mediastream.microsoft.com/events/2016/16…',\n",
       "   'expanded_url': 'https://mediastream.microsoft.com/events/2016/1606/User2016/player/User2016.html',\n",
       "   'indices': [117, 140],\n",
       "   'url': 'https://t.co/XTGDcVBVQR'}],\n",
       " 'user_mentions': [{'id': 2303751216,\n",
       "   'id_str': '2303751216',\n",
       "   'indices': [59, 75],\n",
       "   'name': 'FiveThirtyEight',\n",
       "   'screen_name': 'FiveThirtyEight'}]}"
      ]
     },
     "execution_count": 38,
     "metadata": {},
     "output_type": "execute_result"
    }
   ],
   "source": [
    "first['entities']"
   ]
  },
  {
   "cell_type": "code",
   "execution_count": 39,
   "metadata": {
    "collapsed": false
   },
   "outputs": [
    {
     "name": "stdout",
     "output_type": "stream",
     "text": [
      "https://mediastream.microsoft.com/events/2016/1606/User2016/player/User2016.html\n"
     ]
    }
   ],
   "source": [
    "for item in first['entities']['urls']:\n",
    "    print(item['expanded_url'])"
   ]
  },
  {
   "cell_type": "code",
   "execution_count": 40,
   "metadata": {
    "collapsed": false
   },
   "outputs": [
    {
     "name": "stdout",
     "output_type": "stream",
     "text": [
      "FiveThirtyEight\n"
     ]
    }
   ],
   "source": [
    "for item in first['entities']['user_mentions']:\n",
    "    print(item['screen_name'])"
   ]
  },
  {
   "cell_type": "code",
   "execution_count": 42,
   "metadata": {
    "collapsed": false
   },
   "outputs": [
    {
     "ename": "TwythonRateLimitError",
     "evalue": "Twitter API returned a 429 (Too Many Requests), Rate limit exceeded",
     "output_type": "error",
     "traceback": [
      "\u001b[1;31m---------------------------------------------------------------------------\u001b[0m",
      "\u001b[1;31mTwythonRateLimitError\u001b[0m                     Traceback (most recent call last)",
      "\u001b[1;32m<ipython-input-42-ca8279f64f86>\u001b[0m in \u001b[0;36m<module>\u001b[1;34m()\u001b[0m\n\u001b[0;32m      1\u001b[0m \u001b[0mcursor\u001b[0m \u001b[1;33m=\u001b[0m \u001b[0mtwitter\u001b[0m\u001b[1;33m.\u001b[0m\u001b[0mcursor\u001b[0m\u001b[1;33m(\u001b[0m\u001b[0mtwitter\u001b[0m\u001b[1;33m.\u001b[0m\u001b[0msearch\u001b[0m\u001b[1;33m,\u001b[0m \u001b[0mq\u001b[0m\u001b[1;33m=\u001b[0m\u001b[1;34m'\"kevin durant\" -filter:retweets'\u001b[0m\u001b[1;33m,\u001b[0m \u001b[0mcount\u001b[0m\u001b[1;33m=\u001b[0m\u001b[1;36m100\u001b[0m\u001b[1;33m)\u001b[0m\u001b[1;33m\u001b[0m\u001b[0m\n\u001b[0;32m      2\u001b[0m \u001b[0mall_urls\u001b[0m \u001b[1;33m=\u001b[0m \u001b[0mlist\u001b[0m\u001b[1;33m(\u001b[0m\u001b[1;33m)\u001b[0m\u001b[1;33m\u001b[0m\u001b[0m\n\u001b[1;32m----> 3\u001b[1;33m \u001b[1;32mfor\u001b[0m \u001b[0mtweet\u001b[0m \u001b[1;32min\u001b[0m \u001b[0mcursor\u001b[0m\u001b[1;33m:\u001b[0m\u001b[1;33m\u001b[0m\u001b[0m\n\u001b[0m\u001b[0;32m      4\u001b[0m     \u001b[1;32mfor\u001b[0m \u001b[0mitem\u001b[0m \u001b[1;32min\u001b[0m \u001b[0mtweet\u001b[0m\u001b[1;33m[\u001b[0m\u001b[1;34m'entities'\u001b[0m\u001b[1;33m]\u001b[0m\u001b[1;33m[\u001b[0m\u001b[1;34m'urls'\u001b[0m\u001b[1;33m]\u001b[0m\u001b[1;33m:\u001b[0m\u001b[1;33m\u001b[0m\u001b[0m\n\u001b[0;32m      5\u001b[0m         \u001b[0mall_urls\u001b[0m\u001b[1;33m.\u001b[0m\u001b[0mappend\u001b[0m\u001b[1;33m(\u001b[0m\u001b[0mitem\u001b[0m\u001b[1;33m[\u001b[0m\u001b[1;34m'expanded_url'\u001b[0m\u001b[1;33m]\u001b[0m\u001b[1;33m)\u001b[0m\u001b[1;33m\u001b[0m\u001b[0m\n",
      "\u001b[1;32m/usr/lib/python3.4/site-packages/twython/api.py\u001b[0m in \u001b[0;36mcursor\u001b[1;34m(self, function, return_pages, **params)\u001b[0m\n\u001b[0;32m    476\u001b[0m \u001b[1;33m\u001b[0m\u001b[0m\n\u001b[0;32m    477\u001b[0m         \u001b[1;32mwhile\u001b[0m \u001b[1;32mTrue\u001b[0m\u001b[1;33m:\u001b[0m\u001b[1;33m\u001b[0m\u001b[0m\n\u001b[1;32m--> 478\u001b[1;33m             \u001b[0mcontent\u001b[0m \u001b[1;33m=\u001b[0m \u001b[0mfunction\u001b[0m\u001b[1;33m(\u001b[0m\u001b[1;33m**\u001b[0m\u001b[0mparams\u001b[0m\u001b[1;33m)\u001b[0m\u001b[1;33m\u001b[0m\u001b[0m\n\u001b[0m\u001b[0;32m    479\u001b[0m \u001b[1;33m\u001b[0m\u001b[0m\n\u001b[0;32m    480\u001b[0m             \u001b[1;32mif\u001b[0m \u001b[1;32mnot\u001b[0m \u001b[0mcontent\u001b[0m\u001b[1;33m:\u001b[0m\u001b[1;33m\u001b[0m\u001b[0m\n",
      "\u001b[1;32m/usr/lib/python3.4/site-packages/twython/endpoints.py\u001b[0m in \u001b[0;36msearch\u001b[1;34m(self, **params)\u001b[0m\n\u001b[0;32m    228\u001b[0m \u001b[1;33m\u001b[0m\u001b[0m\n\u001b[0;32m    229\u001b[0m         \"\"\"\n\u001b[1;32m--> 230\u001b[1;33m         \u001b[1;32mreturn\u001b[0m \u001b[0mself\u001b[0m\u001b[1;33m.\u001b[0m\u001b[0mget\u001b[0m\u001b[1;33m(\u001b[0m\u001b[1;34m'search/tweets'\u001b[0m\u001b[1;33m,\u001b[0m \u001b[0mparams\u001b[0m\u001b[1;33m=\u001b[0m\u001b[0mparams\u001b[0m\u001b[1;33m)\u001b[0m\u001b[1;33m\u001b[0m\u001b[0m\n\u001b[0m\u001b[0;32m    231\u001b[0m     \u001b[0msearch\u001b[0m\u001b[1;33m.\u001b[0m\u001b[0miter_mode\u001b[0m \u001b[1;33m=\u001b[0m \u001b[1;34m'id'\u001b[0m\u001b[1;33m\u001b[0m\u001b[0m\n\u001b[0;32m    232\u001b[0m     \u001b[0msearch\u001b[0m\u001b[1;33m.\u001b[0m\u001b[0miter_key\u001b[0m \u001b[1;33m=\u001b[0m \u001b[1;34m'statuses'\u001b[0m\u001b[1;33m\u001b[0m\u001b[0m\n",
      "\u001b[1;32m/usr/lib/python3.4/site-packages/twython/api.py\u001b[0m in \u001b[0;36mget\u001b[1;34m(self, endpoint, params, version)\u001b[0m\n\u001b[0;32m    262\u001b[0m     \u001b[1;32mdef\u001b[0m \u001b[0mget\u001b[0m\u001b[1;33m(\u001b[0m\u001b[0mself\u001b[0m\u001b[1;33m,\u001b[0m \u001b[0mendpoint\u001b[0m\u001b[1;33m,\u001b[0m \u001b[0mparams\u001b[0m\u001b[1;33m=\u001b[0m\u001b[1;32mNone\u001b[0m\u001b[1;33m,\u001b[0m \u001b[0mversion\u001b[0m\u001b[1;33m=\u001b[0m\u001b[1;34m'1.1'\u001b[0m\u001b[1;33m)\u001b[0m\u001b[1;33m:\u001b[0m\u001b[1;33m\u001b[0m\u001b[0m\n\u001b[0;32m    263\u001b[0m         \u001b[1;34m\"\"\"Shortcut for GET requests via :class:`request`\"\"\"\u001b[0m\u001b[1;33m\u001b[0m\u001b[0m\n\u001b[1;32m--> 264\u001b[1;33m         \u001b[1;32mreturn\u001b[0m \u001b[0mself\u001b[0m\u001b[1;33m.\u001b[0m\u001b[0mrequest\u001b[0m\u001b[1;33m(\u001b[0m\u001b[0mendpoint\u001b[0m\u001b[1;33m,\u001b[0m \u001b[0mparams\u001b[0m\u001b[1;33m=\u001b[0m\u001b[0mparams\u001b[0m\u001b[1;33m,\u001b[0m \u001b[0mversion\u001b[0m\u001b[1;33m=\u001b[0m\u001b[0mversion\u001b[0m\u001b[1;33m)\u001b[0m\u001b[1;33m\u001b[0m\u001b[0m\n\u001b[0m\u001b[0;32m    265\u001b[0m \u001b[1;33m\u001b[0m\u001b[0m\n\u001b[0;32m    266\u001b[0m     \u001b[1;32mdef\u001b[0m \u001b[0mpost\u001b[0m\u001b[1;33m(\u001b[0m\u001b[0mself\u001b[0m\u001b[1;33m,\u001b[0m \u001b[0mendpoint\u001b[0m\u001b[1;33m,\u001b[0m \u001b[0mparams\u001b[0m\u001b[1;33m=\u001b[0m\u001b[1;32mNone\u001b[0m\u001b[1;33m,\u001b[0m \u001b[0mversion\u001b[0m\u001b[1;33m=\u001b[0m\u001b[1;34m'1.1'\u001b[0m\u001b[1;33m)\u001b[0m\u001b[1;33m:\u001b[0m\u001b[1;33m\u001b[0m\u001b[0m\n",
      "\u001b[1;32m/usr/lib/python3.4/site-packages/twython/api.py\u001b[0m in \u001b[0;36mrequest\u001b[1;34m(self, endpoint, method, params, version)\u001b[0m\n\u001b[0;32m    256\u001b[0m \u001b[1;33m\u001b[0m\u001b[0m\n\u001b[0;32m    257\u001b[0m         content = self._request(url, method=method, params=params,\n\u001b[1;32m--> 258\u001b[1;33m                                 api_call=url)\n\u001b[0m\u001b[0;32m    259\u001b[0m \u001b[1;33m\u001b[0m\u001b[0m\n\u001b[0;32m    260\u001b[0m         \u001b[1;32mreturn\u001b[0m \u001b[0mcontent\u001b[0m\u001b[1;33m\u001b[0m\u001b[0m\n",
      "\u001b[1;32m/usr/lib/python3.4/site-packages/twython/api.py\u001b[0m in \u001b[0;36m_request\u001b[1;34m(self, url, method, params, api_call)\u001b[0m\n\u001b[0;32m    192\u001b[0m                 \u001b[0merror_message\u001b[0m\u001b[1;33m,\u001b[0m\u001b[1;33m\u001b[0m\u001b[0m\n\u001b[0;32m    193\u001b[0m                 \u001b[0merror_code\u001b[0m\u001b[1;33m=\u001b[0m\u001b[0mresponse\u001b[0m\u001b[1;33m.\u001b[0m\u001b[0mstatus_code\u001b[0m\u001b[1;33m,\u001b[0m\u001b[1;33m\u001b[0m\u001b[0m\n\u001b[1;32m--> 194\u001b[1;33m                 retry_after=response.headers.get('X-Rate-Limit-Reset'))\n\u001b[0m\u001b[0;32m    195\u001b[0m \u001b[1;33m\u001b[0m\u001b[0m\n\u001b[0;32m    196\u001b[0m         \u001b[1;32mtry\u001b[0m\u001b[1;33m:\u001b[0m\u001b[1;33m\u001b[0m\u001b[0m\n",
      "\u001b[1;31mTwythonRateLimitError\u001b[0m: Twitter API returned a 429 (Too Many Requests), Rate limit exceeded"
     ]
    }
   ],
   "source": [
    "cursor = twitter.cursor(twitter.search, q='\"kevin durant\" -filter:retweets', count=100)\n",
    "all_urls = list()\n",
    "for tweet in cursor:\n",
    "    for item in tweet['entities']['urls']:\n",
    "        all_urls.append(item['expanded_url'])\n",
    "    if len(all_urls) > 1000:\n",
    "        break"
   ]
  },
  {
   "cell_type": "code",
   "execution_count": null,
   "metadata": {
    "collapsed": true
   },
   "outputs": [],
   "source": [
    "url_count = Counter(all_urls)\n",
    "for item in url_count.most_common(10):\n",
    "    print(item)"
   ]
  },
  {
   "cell_type": "code",
   "execution_count": 43,
   "metadata": {
    "collapsed": false
   },
   "outputs": [
    {
     "ename": "TwythonRateLimitError",
     "evalue": "Twitter API returned a 429 (Too Many Requests), Rate limit exceeded",
     "output_type": "error",
     "traceback": [
      "\u001b[1;31m---------------------------------------------------------------------------\u001b[0m",
      "\u001b[1;31mTwythonRateLimitError\u001b[0m                     Traceback (most recent call last)",
      "\u001b[1;32m<ipython-input-43-abf0509bfd45>\u001b[0m in \u001b[0;36m<module>\u001b[1;34m()\u001b[0m\n\u001b[0;32m      1\u001b[0m \u001b[0mcursor\u001b[0m \u001b[1;33m=\u001b[0m \u001b[0mtwitter\u001b[0m\u001b[1;33m.\u001b[0m\u001b[0mcursor\u001b[0m\u001b[1;33m(\u001b[0m\u001b[0mtwitter\u001b[0m\u001b[1;33m.\u001b[0m\u001b[0msearch\u001b[0m\u001b[1;33m,\u001b[0m \u001b[0mq\u001b[0m\u001b[1;33m=\u001b[0m\u001b[1;34m'\"datajournalism\" -filter:retweets'\u001b[0m\u001b[1;33m,\u001b[0m \u001b[0mcount\u001b[0m\u001b[1;33m=\u001b[0m\u001b[1;36m100\u001b[0m\u001b[1;33m)\u001b[0m\u001b[1;33m\u001b[0m\u001b[0m\n\u001b[0;32m      2\u001b[0m \u001b[0mall_media_urls\u001b[0m \u001b[1;33m=\u001b[0m \u001b[0mlist\u001b[0m\u001b[1;33m(\u001b[0m\u001b[1;33m)\u001b[0m\u001b[1;33m\u001b[0m\u001b[0m\n\u001b[1;32m----> 3\u001b[1;33m \u001b[1;32mfor\u001b[0m \u001b[0mtweet\u001b[0m \u001b[1;32min\u001b[0m \u001b[0mcursor\u001b[0m\u001b[1;33m:\u001b[0m\u001b[1;33m\u001b[0m\u001b[0m\n\u001b[0m\u001b[0;32m      4\u001b[0m     \u001b[1;32mif\u001b[0m \u001b[1;34m'media'\u001b[0m \u001b[1;32min\u001b[0m \u001b[0mtweet\u001b[0m\u001b[1;33m[\u001b[0m\u001b[1;34m'entities'\u001b[0m\u001b[1;33m]\u001b[0m\u001b[1;33m:\u001b[0m\u001b[1;33m\u001b[0m\u001b[0m\n\u001b[0;32m      5\u001b[0m         \u001b[1;32mfor\u001b[0m \u001b[0mitem\u001b[0m \u001b[1;32min\u001b[0m \u001b[0mtweet\u001b[0m\u001b[1;33m[\u001b[0m\u001b[1;34m'entities'\u001b[0m\u001b[1;33m]\u001b[0m\u001b[1;33m[\u001b[0m\u001b[1;34m'media'\u001b[0m\u001b[1;33m]\u001b[0m\u001b[1;33m:\u001b[0m\u001b[1;33m\u001b[0m\u001b[0m\n",
      "\u001b[1;32m/usr/lib/python3.4/site-packages/twython/api.py\u001b[0m in \u001b[0;36mcursor\u001b[1;34m(self, function, return_pages, **params)\u001b[0m\n\u001b[0;32m    476\u001b[0m \u001b[1;33m\u001b[0m\u001b[0m\n\u001b[0;32m    477\u001b[0m         \u001b[1;32mwhile\u001b[0m \u001b[1;32mTrue\u001b[0m\u001b[1;33m:\u001b[0m\u001b[1;33m\u001b[0m\u001b[0m\n\u001b[1;32m--> 478\u001b[1;33m             \u001b[0mcontent\u001b[0m \u001b[1;33m=\u001b[0m \u001b[0mfunction\u001b[0m\u001b[1;33m(\u001b[0m\u001b[1;33m**\u001b[0m\u001b[0mparams\u001b[0m\u001b[1;33m)\u001b[0m\u001b[1;33m\u001b[0m\u001b[0m\n\u001b[0m\u001b[0;32m    479\u001b[0m \u001b[1;33m\u001b[0m\u001b[0m\n\u001b[0;32m    480\u001b[0m             \u001b[1;32mif\u001b[0m \u001b[1;32mnot\u001b[0m \u001b[0mcontent\u001b[0m\u001b[1;33m:\u001b[0m\u001b[1;33m\u001b[0m\u001b[0m\n",
      "\u001b[1;32m/usr/lib/python3.4/site-packages/twython/endpoints.py\u001b[0m in \u001b[0;36msearch\u001b[1;34m(self, **params)\u001b[0m\n\u001b[0;32m    228\u001b[0m \u001b[1;33m\u001b[0m\u001b[0m\n\u001b[0;32m    229\u001b[0m         \"\"\"\n\u001b[1;32m--> 230\u001b[1;33m         \u001b[1;32mreturn\u001b[0m \u001b[0mself\u001b[0m\u001b[1;33m.\u001b[0m\u001b[0mget\u001b[0m\u001b[1;33m(\u001b[0m\u001b[1;34m'search/tweets'\u001b[0m\u001b[1;33m,\u001b[0m \u001b[0mparams\u001b[0m\u001b[1;33m=\u001b[0m\u001b[0mparams\u001b[0m\u001b[1;33m)\u001b[0m\u001b[1;33m\u001b[0m\u001b[0m\n\u001b[0m\u001b[0;32m    231\u001b[0m     \u001b[0msearch\u001b[0m\u001b[1;33m.\u001b[0m\u001b[0miter_mode\u001b[0m \u001b[1;33m=\u001b[0m \u001b[1;34m'id'\u001b[0m\u001b[1;33m\u001b[0m\u001b[0m\n\u001b[0;32m    232\u001b[0m     \u001b[0msearch\u001b[0m\u001b[1;33m.\u001b[0m\u001b[0miter_key\u001b[0m \u001b[1;33m=\u001b[0m \u001b[1;34m'statuses'\u001b[0m\u001b[1;33m\u001b[0m\u001b[0m\n",
      "\u001b[1;32m/usr/lib/python3.4/site-packages/twython/api.py\u001b[0m in \u001b[0;36mget\u001b[1;34m(self, endpoint, params, version)\u001b[0m\n\u001b[0;32m    262\u001b[0m     \u001b[1;32mdef\u001b[0m \u001b[0mget\u001b[0m\u001b[1;33m(\u001b[0m\u001b[0mself\u001b[0m\u001b[1;33m,\u001b[0m \u001b[0mendpoint\u001b[0m\u001b[1;33m,\u001b[0m \u001b[0mparams\u001b[0m\u001b[1;33m=\u001b[0m\u001b[1;32mNone\u001b[0m\u001b[1;33m,\u001b[0m \u001b[0mversion\u001b[0m\u001b[1;33m=\u001b[0m\u001b[1;34m'1.1'\u001b[0m\u001b[1;33m)\u001b[0m\u001b[1;33m:\u001b[0m\u001b[1;33m\u001b[0m\u001b[0m\n\u001b[0;32m    263\u001b[0m         \u001b[1;34m\"\"\"Shortcut for GET requests via :class:`request`\"\"\"\u001b[0m\u001b[1;33m\u001b[0m\u001b[0m\n\u001b[1;32m--> 264\u001b[1;33m         \u001b[1;32mreturn\u001b[0m \u001b[0mself\u001b[0m\u001b[1;33m.\u001b[0m\u001b[0mrequest\u001b[0m\u001b[1;33m(\u001b[0m\u001b[0mendpoint\u001b[0m\u001b[1;33m,\u001b[0m \u001b[0mparams\u001b[0m\u001b[1;33m=\u001b[0m\u001b[0mparams\u001b[0m\u001b[1;33m,\u001b[0m \u001b[0mversion\u001b[0m\u001b[1;33m=\u001b[0m\u001b[0mversion\u001b[0m\u001b[1;33m)\u001b[0m\u001b[1;33m\u001b[0m\u001b[0m\n\u001b[0m\u001b[0;32m    265\u001b[0m \u001b[1;33m\u001b[0m\u001b[0m\n\u001b[0;32m    266\u001b[0m     \u001b[1;32mdef\u001b[0m \u001b[0mpost\u001b[0m\u001b[1;33m(\u001b[0m\u001b[0mself\u001b[0m\u001b[1;33m,\u001b[0m \u001b[0mendpoint\u001b[0m\u001b[1;33m,\u001b[0m \u001b[0mparams\u001b[0m\u001b[1;33m=\u001b[0m\u001b[1;32mNone\u001b[0m\u001b[1;33m,\u001b[0m \u001b[0mversion\u001b[0m\u001b[1;33m=\u001b[0m\u001b[1;34m'1.1'\u001b[0m\u001b[1;33m)\u001b[0m\u001b[1;33m:\u001b[0m\u001b[1;33m\u001b[0m\u001b[0m\n",
      "\u001b[1;32m/usr/lib/python3.4/site-packages/twython/api.py\u001b[0m in \u001b[0;36mrequest\u001b[1;34m(self, endpoint, method, params, version)\u001b[0m\n\u001b[0;32m    256\u001b[0m \u001b[1;33m\u001b[0m\u001b[0m\n\u001b[0;32m    257\u001b[0m         content = self._request(url, method=method, params=params,\n\u001b[1;32m--> 258\u001b[1;33m                                 api_call=url)\n\u001b[0m\u001b[0;32m    259\u001b[0m \u001b[1;33m\u001b[0m\u001b[0m\n\u001b[0;32m    260\u001b[0m         \u001b[1;32mreturn\u001b[0m \u001b[0mcontent\u001b[0m\u001b[1;33m\u001b[0m\u001b[0m\n",
      "\u001b[1;32m/usr/lib/python3.4/site-packages/twython/api.py\u001b[0m in \u001b[0;36m_request\u001b[1;34m(self, url, method, params, api_call)\u001b[0m\n\u001b[0;32m    192\u001b[0m                 \u001b[0merror_message\u001b[0m\u001b[1;33m,\u001b[0m\u001b[1;33m\u001b[0m\u001b[0m\n\u001b[0;32m    193\u001b[0m                 \u001b[0merror_code\u001b[0m\u001b[1;33m=\u001b[0m\u001b[0mresponse\u001b[0m\u001b[1;33m.\u001b[0m\u001b[0mstatus_code\u001b[0m\u001b[1;33m,\u001b[0m\u001b[1;33m\u001b[0m\u001b[0m\n\u001b[1;32m--> 194\u001b[1;33m                 retry_after=response.headers.get('X-Rate-Limit-Reset'))\n\u001b[0m\u001b[0;32m    195\u001b[0m \u001b[1;33m\u001b[0m\u001b[0m\n\u001b[0;32m    196\u001b[0m         \u001b[1;32mtry\u001b[0m\u001b[1;33m:\u001b[0m\u001b[1;33m\u001b[0m\u001b[0m\n",
      "\u001b[1;31mTwythonRateLimitError\u001b[0m: Twitter API returned a 429 (Too Many Requests), Rate limit exceeded"
     ]
    }
   ],
   "source": [
    "cursor = twitter.cursor(twitter.search, q='\"datajournalism\" -filter:retweets', count=100)\n",
    "all_media_urls = list()\n",
    "for tweet in cursor:\n",
    "    if 'media' in tweet['entities']:\n",
    "        for item in tweet['entities']['media']:\n",
    "            all_media_urls.append(item['media_url'])\n",
    "    if len(all_media_urls) > 1000:\n",
    "        break"
   ]
  },
  {
   "cell_type": "code",
   "execution_count": 44,
   "metadata": {
    "collapsed": true
   },
   "outputs": [],
   "source": [
    "fh = open(\"preview.html\", \"w\")\n",
    "for item in all_media_urls:\n",
    "    fh.write('<img src=\"{}\" width=\"50\">'.format(item))\n",
    "fh.close()"
   ]
  },
  {
   "cell_type": "code",
   "execution_count": null,
   "metadata": {
    "collapsed": true
   },
   "outputs": [],
   "source": []
  }
 ],
 "metadata": {
  "kernelspec": {
   "display_name": "Python 3",
   "language": "python",
   "name": "python3"
  },
  "language_info": {
   "codemirror_mode": {
    "name": "ipython",
    "version": 3
   },
   "file_extension": ".py",
   "mimetype": "text/x-python",
   "name": "python",
   "nbconvert_exporter": "python",
   "pygments_lexer": "ipython3",
   "version": "3.4.3"
  }
 },
 "nbformat": 4,
 "nbformat_minor": 0
}
