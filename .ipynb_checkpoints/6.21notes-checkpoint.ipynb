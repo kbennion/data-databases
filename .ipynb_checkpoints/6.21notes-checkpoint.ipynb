{
 "cells": [
  {
   "cell_type": "markdown",
   "metadata": {},
   "source": [
    "## Sorting lists"
   ]
  },
  {
   "cell_type": "markdown",
   "metadata": {},
   "source": [
    "word tally: winnowing, supple, \"world-class glower-er\", persnickety"
   ]
  },
  {
   "cell_type": "code",
   "execution_count": 1,
   "metadata": {
    "collapsed": true
   },
   "outputs": [],
   "source": [
    "x = [\"duck\", \"aardvark\", \"crocodile\", \"emu\", \"bee\"]"
   ]
  },
  {
   "cell_type": "code",
   "execution_count": 2,
   "metadata": {
    "collapsed": false
   },
   "outputs": [
    {
     "data": {
      "text/plain": [
       "['aardvark', 'bee', 'crocodile', 'duck', 'emu']"
      ]
     },
     "execution_count": 2,
     "metadata": {},
     "output_type": "execute_result"
    }
   ],
   "source": [
    "sorted(x)"
   ]
  },
  {
   "cell_type": "code",
   "execution_count": 3,
   "metadata": {
    "collapsed": true
   },
   "outputs": [],
   "source": [
    "x.sort()"
   ]
  },
  {
   "cell_type": "code",
   "execution_count": 4,
   "metadata": {
    "collapsed": false
   },
   "outputs": [
    {
     "data": {
      "text/plain": [
       "['aardvark', 'bee', 'crocodile', 'duck', 'emu']"
      ]
     },
     "execution_count": 4,
     "metadata": {},
     "output_type": "execute_result"
    }
   ],
   "source": [
    "x"
   ]
  },
  {
   "cell_type": "code",
   "execution_count": 5,
   "metadata": {
    "collapsed": false
   },
   "outputs": [
    {
     "data": {
      "text/plain": [
       "['emu', 'duck', 'crocodile', 'bee', 'aardvark']"
      ]
     },
     "execution_count": 5,
     "metadata": {},
     "output_type": "execute_result"
    }
   ],
   "source": [
    "#sorted by second letter: ['aardvark', 'bee', 'emu', 'crocodile', 'duck']\n",
    "sorted(x, reverse=True)"
   ]
  },
  {
   "cell_type": "code",
   "execution_count": 6,
   "metadata": {
    "collapsed": true
   },
   "outputs": [],
   "source": [
    "#sadly does not work: sorted(x, by_second_letter=True)"
   ]
  },
  {
   "cell_type": "code",
   "execution_count": 7,
   "metadata": {
    "collapsed": true
   },
   "outputs": [],
   "source": [
    "#sorted(x, key=???)"
   ]
  },
  {
   "cell_type": "code",
   "execution_count": 8,
   "metadata": {
    "collapsed": true
   },
   "outputs": [],
   "source": [
    "def get_second_letter(s):\n",
    "    return s[1]"
   ]
  },
  {
   "cell_type": "code",
   "execution_count": 9,
   "metadata": {
    "collapsed": false
   },
   "outputs": [
    {
     "data": {
      "text/plain": [
       "'h'"
      ]
     },
     "execution_count": 9,
     "metadata": {},
     "output_type": "execute_result"
    }
   ],
   "source": [
    "get_second_letter(\"cheese\")"
   ]
  },
  {
   "cell_type": "code",
   "execution_count": 10,
   "metadata": {
    "collapsed": false
   },
   "outputs": [
    {
     "data": {
      "text/plain": [
       "['aardvark', 'bee', 'emu', 'crocodile', 'duck']"
      ]
     },
     "execution_count": 10,
     "metadata": {},
     "output_type": "execute_result"
    }
   ],
   "source": [
    "sorted(x, key=get_second_letter)"
   ]
  },
  {
   "cell_type": "code",
   "execution_count": 11,
   "metadata": {
    "collapsed": false
   },
   "outputs": [
    {
     "data": {
      "text/plain": [
       "str"
      ]
     },
     "execution_count": 11,
     "metadata": {},
     "output_type": "execute_result"
    }
   ],
   "source": [
    "type(\"hello\")"
   ]
  },
  {
   "cell_type": "code",
   "execution_count": 12,
   "metadata": {
    "collapsed": false
   },
   "outputs": [
    {
     "data": {
      "text/plain": [
       "function"
      ]
     },
     "execution_count": 12,
     "metadata": {},
     "output_type": "execute_result"
    }
   ],
   "source": [
    "type(get_second_letter)"
   ]
  },
  {
   "cell_type": "markdown",
   "metadata": {},
   "source": [
    "## lambda functions\n",
    "writing a function on a single line"
   ]
  },
  {
   "cell_type": "code",
   "execution_count": 13,
   "metadata": {
    "collapsed": true
   },
   "outputs": [],
   "source": [
    "# normal function\n",
    "def get_second_letter(s):\n",
    "    return s[1]"
   ]
  },
  {
   "cell_type": "code",
   "execution_count": 14,
   "metadata": {
    "collapsed": true
   },
   "outputs": [],
   "source": [
    "get_second_letter = lambda s: s[1]"
   ]
  },
  {
   "cell_type": "code",
   "execution_count": 15,
   "metadata": {
    "collapsed": true
   },
   "outputs": [],
   "source": [
    "#functions written with the lambda function can be written on one line\n",
    "#def name (parameters):\n",
    "#return expr\n",
    "#AKA name = lambda params: expr"
   ]
  },
  {
   "cell_type": "code",
   "execution_count": 16,
   "metadata": {
    "collapsed": false
   },
   "outputs": [
    {
     "data": {
      "text/plain": [
       "'e'"
      ]
     },
     "execution_count": 16,
     "metadata": {},
     "output_type": "execute_result"
    }
   ],
   "source": [
    "get_second_letter(\"hello\")"
   ]
  },
  {
   "cell_type": "code",
   "execution_count": 17,
   "metadata": {
    "collapsed": false
   },
   "outputs": [
    {
     "data": {
      "text/plain": [
       "function"
      ]
     },
     "execution_count": 17,
     "metadata": {},
     "output_type": "execute_result"
    }
   ],
   "source": [
    "type(lambda s: s[1])"
   ]
  },
  {
   "cell_type": "code",
   "execution_count": 18,
   "metadata": {
    "collapsed": false
   },
   "outputs": [
    {
     "data": {
      "text/plain": [
       "['aardvark', 'bee', 'crocodile', 'duck', 'emu']"
      ]
     },
     "execution_count": 18,
     "metadata": {},
     "output_type": "execute_result"
    }
   ],
   "source": [
    "x"
   ]
  },
  {
   "cell_type": "code",
   "execution_count": 19,
   "metadata": {
    "collapsed": false
   },
   "outputs": [
    {
     "data": {
      "text/plain": [
       "['aardvark', 'bee', 'emu', 'crocodile', 'duck']"
      ]
     },
     "execution_count": 19,
     "metadata": {},
     "output_type": "execute_result"
    }
   ],
   "source": [
    "sorted(x, key=lambda s: s[1])"
   ]
  },
  {
   "cell_type": "code",
   "execution_count": 20,
   "metadata": {
    "collapsed": false
   },
   "outputs": [
    {
     "ename": "NameError",
     "evalue": "name 'planets' is not defined",
     "output_type": "error",
     "traceback": [
      "\u001b[1;31m---------------------------------------------------------------------------\u001b[0m",
      "\u001b[1;31mNameError\u001b[0m                                 Traceback (most recent call last)",
      "\u001b[1;32m<ipython-input-20-ce99a67d1549>\u001b[0m in \u001b[0;36m<module>\u001b[1;34m()\u001b[0m\n\u001b[0;32m      1\u001b[0m \u001b[1;31m#a list of planet names sorted by not the name but by the number of moons\u001b[0m\u001b[1;33m\u001b[0m\u001b[1;33m\u001b[0m\u001b[0m\n\u001b[1;32m----> 2\u001b[1;33m \u001b[1;33m[\u001b[0m\u001b[0mp\u001b[0m\u001b[1;33m[\u001b[0m\u001b[1;34m'name'\u001b[0m\u001b[1;33m]\u001b[0m \u001b[1;32mfor\u001b[0m \u001b[0mp\u001b[0m \u001b[1;32min\u001b[0m \u001b[0msorted\u001b[0m\u001b[1;33m(\u001b[0m\u001b[0mplanets\u001b[0m\u001b[1;33m,\u001b[0m \u001b[0mkey\u001b[0m\u001b[1;33m=\u001b[0m\u001b[1;32mlambda\u001b[0m \u001b[0mx\u001b[0m\u001b[1;33m:\u001b[0m \u001b[0mx\u001b[0m\u001b[1;33m[\u001b[0m\u001b[1;34m'moons'\u001b[0m\u001b[1;33m]\u001b[0m\u001b[1;33m)\u001b[0m\u001b[1;33m]\u001b[0m\u001b[1;33m\u001b[0m\u001b[0m\n\u001b[0m",
      "\u001b[1;31mNameError\u001b[0m: name 'planets' is not defined"
     ]
    }
   ],
   "source": [
    "#a list of planet names sorted by not the name but by the number of moons\n",
    "[p['name'] for p in sorted(planets, key=lambda x: x['moons'])]"
   ]
  },
  {
   "cell_type": "code",
   "execution_count": null,
   "metadata": {
    "collapsed": true
   },
   "outputs": [],
   "source": [
    "def get_moon_count(d):\n",
    "    return d['moons']\n",
    "[p['name'] for p in sorted(planets, key=get_moon_count)]\n",
    "[p['name'] for p in sorted(planets, key=lambda d: d['diameter'], reverse=True)]\n",
    "\n",
    "[p['name'] for p in \\\n",
    "sorted(planets, key=lambda d: d['diameter'], reverse=True) \\\n",
    "if p['diameter'] > 4]"
   ]
  },
  {
   "cell_type": "markdown",
   "metadata": {},
   "source": [
    "## tuple (not \"toople\", \"tuple\" rhymes with \"supple\")\n",
    "tuple is kind of like a strict list"
   ]
  },
  {
   "cell_type": "code",
   "execution_count": 21,
   "metadata": {
    "collapsed": true
   },
   "outputs": [],
   "source": [
    "t = (5, 10, 15)"
   ]
  },
  {
   "cell_type": "code",
   "execution_count": 22,
   "metadata": {
    "collapsed": false
   },
   "outputs": [
    {
     "data": {
      "text/plain": [
       "tuple"
      ]
     },
     "execution_count": 22,
     "metadata": {},
     "output_type": "execute_result"
    }
   ],
   "source": [
    "type(t)"
   ]
  },
  {
   "cell_type": "code",
   "execution_count": 23,
   "metadata": {
    "collapsed": false
   },
   "outputs": [
    {
     "data": {
      "text/plain": [
       "5"
      ]
     },
     "execution_count": 23,
     "metadata": {},
     "output_type": "execute_result"
    }
   ],
   "source": [
    "t[0]"
   ]
  },
  {
   "cell_type": "code",
   "execution_count": 24,
   "metadata": {
    "collapsed": false
   },
   "outputs": [
    {
     "name": "stdout",
     "output_type": "stream",
     "text": [
      "25\n",
      "100\n",
      "225\n"
     ]
    }
   ],
   "source": [
    "for item in t:\n",
    "    print(item * item)"
   ]
  },
  {
   "cell_type": "code",
   "execution_count": 25,
   "metadata": {
    "collapsed": false
   },
   "outputs": [
    {
     "ename": "AttributeError",
     "evalue": "'tuple' object has no attribute 'append'",
     "output_type": "error",
     "traceback": [
      "\u001b[1;31m---------------------------------------------------------------------------\u001b[0m",
      "\u001b[1;31mAttributeError\u001b[0m                            Traceback (most recent call last)",
      "\u001b[1;32m<ipython-input-25-e0d05117f4e7>\u001b[0m in \u001b[0;36m<module>\u001b[1;34m()\u001b[0m\n\u001b[1;32m----> 1\u001b[1;33m \u001b[0mt\u001b[0m\u001b[1;33m.\u001b[0m\u001b[0mappend\u001b[0m\u001b[1;33m(\u001b[0m\u001b[1;36m30\u001b[0m\u001b[1;33m)\u001b[0m\u001b[1;33m\u001b[0m\u001b[0m\n\u001b[0m",
      "\u001b[1;31mAttributeError\u001b[0m: 'tuple' object has no attribute 'append'"
     ]
    }
   ],
   "source": [
    "t.append(30)"
   ]
  },
  {
   "cell_type": "code",
   "execution_count": 26,
   "metadata": {
    "collapsed": true
   },
   "outputs": [],
   "source": [
    "carefree_list = [5, 10, 15, 20, 25]"
   ]
  },
  {
   "cell_type": "code",
   "execution_count": 27,
   "metadata": {
    "collapsed": true
   },
   "outputs": [],
   "source": [
    "carefree_list.append(30)"
   ]
  },
  {
   "cell_type": "code",
   "execution_count": 28,
   "metadata": {
    "collapsed": false
   },
   "outputs": [
    {
     "data": {
      "text/plain": [
       "[5, 10, 15, 20, 25, 30]"
      ]
     },
     "execution_count": 28,
     "metadata": {},
     "output_type": "execute_result"
    }
   ],
   "source": [
    "carefree_list"
   ]
  },
  {
   "cell_type": "code",
   "execution_count": 29,
   "metadata": {
    "collapsed": true
   },
   "outputs": [],
   "source": [
    "carefree_list[1] = \"Boris\""
   ]
  },
  {
   "cell_type": "code",
   "execution_count": 30,
   "metadata": {
    "collapsed": false
   },
   "outputs": [
    {
     "data": {
      "text/plain": [
       "[5, 'Boris', 15, 20, 25, 30]"
      ]
     },
     "execution_count": 30,
     "metadata": {},
     "output_type": "execute_result"
    }
   ],
   "source": [
    "carefree_list"
   ]
  },
  {
   "cell_type": "code",
   "execution_count": 31,
   "metadata": {
    "collapsed": false
   },
   "outputs": [
    {
     "ename": "TypeError",
     "evalue": "'tuple' object does not support item assignment",
     "output_type": "error",
     "traceback": [
      "\u001b[1;31m---------------------------------------------------------------------------\u001b[0m",
      "\u001b[1;31mTypeError\u001b[0m                                 Traceback (most recent call last)",
      "\u001b[1;32m<ipython-input-31-f05be4704d01>\u001b[0m in \u001b[0;36m<module>\u001b[1;34m()\u001b[0m\n\u001b[1;32m----> 1\u001b[1;33m \u001b[0mt\u001b[0m\u001b[1;33m[\u001b[0m\u001b[1;36m1\u001b[0m\u001b[1;33m]\u001b[0m \u001b[1;33m=\u001b[0m \u001b[1;34m\"Boris\"\u001b[0m\u001b[1;33m\u001b[0m\u001b[0m\n\u001b[0m",
      "\u001b[1;31mTypeError\u001b[0m: 'tuple' object does not support item assignment"
     ]
    }
   ],
   "source": [
    "t[1] = \"Boris\""
   ]
  },
  {
   "cell_type": "code",
   "execution_count": 39,
   "metadata": {
    "collapsed": true
   },
   "outputs": [],
   "source": [
    "#tuple is kind of like a list but can't be changed after you create it.\n",
    "#can't be changed, it's an 'immutable' data type\n",
    "#one benefit is exactly that: it CAN'T be changed.\n",
    "#other benefit is that tuples are memory-efficient\n",
    "#a list is a notebook, a tuple is a stone tablet"
   ]
  },
  {
   "cell_type": "code",
   "execution_count": 36,
   "metadata": {
    "collapsed": true
   },
   "outputs": [],
   "source": [
    "hello = [1, 2, 3]"
   ]
  },
  {
   "cell_type": "code",
   "execution_count": 35,
   "metadata": {
    "collapsed": true
   },
   "outputs": [],
   "source": [
    "foo = (1, 2, 3)"
   ]
  },
  {
   "cell_type": "code",
   "execution_count": 37,
   "metadata": {
    "collapsed": false
   },
   "outputs": [
    {
     "data": {
      "text/plain": [
       "48"
      ]
     },
     "execution_count": 37,
     "metadata": {},
     "output_type": "execute_result"
    }
   ],
   "source": [
    "import sys\n",
    "sys.getsizeof(hello)"
   ]
  },
  {
   "cell_type": "code",
   "execution_count": 38,
   "metadata": {
    "collapsed": false
   },
   "outputs": [
    {
     "data": {
      "text/plain": [
       "40"
      ]
     },
     "execution_count": 38,
     "metadata": {},
     "output_type": "execute_result"
    }
   ],
   "source": [
    "sys.getsizeof(foo)"
   ]
  },
  {
   "cell_type": "markdown",
   "metadata": {},
   "source": [
    "## back to regular expressions for a sec\n",
    "### grouping with multiple matches in the same string"
   ]
  },
  {
   "cell_type": "code",
   "execution_count": 40,
   "metadata": {
    "collapsed": false
   },
   "outputs": [
    {
     "data": {
      "text/plain": [
       "['one 1', 'two 2', 'three 3', 'four 4', 'five 5']"
      ]
     },
     "execution_count": 40,
     "metadata": {},
     "output_type": "execute_result"
    }
   ],
   "source": [
    "import re\n",
    "test = \"one 1 two 2 three 3 four 4 five 5\"\n",
    "re.findall(r\"\\w+ \\d\", test)"
   ]
  },
  {
   "cell_type": "code",
   "execution_count": 41,
   "metadata": {
    "collapsed": false
   },
   "outputs": [
    {
     "name": "stdout",
     "output_type": "stream",
     "text": [
      "one\n",
      "1\n",
      "two\n",
      "2\n",
      "three\n",
      "3\n",
      "four\n",
      "4\n",
      "five\n",
      "5\n"
     ]
    }
   ],
   "source": [
    "for item in re.findall(r\"\\w+ \\d\", test):\n",
    "    x = item.split(\" \")\n",
    "    print(x[0])\n",
    "    print(x[1])"
   ]
  },
  {
   "cell_type": "code",
   "execution_count": 42,
   "metadata": {
    "collapsed": false
   },
   "outputs": [
    {
     "data": {
      "text/plain": [
       "[('one', '1'), ('two', '2'), ('three', '3'), ('four', '4'), ('five', '5')]"
      ]
     },
     "execution_count": 42,
     "metadata": {},
     "output_type": "execute_result"
    }
   ],
   "source": [
    "test = \"one 1 two 2 three 3 four 4 five 5\"\n",
    "re.findall(r\"(\\w+) (\\d)\", test)"
   ]
  },
  {
   "cell_type": "code",
   "execution_count": 43,
   "metadata": {
    "collapsed": false
   },
   "outputs": [
    {
     "ename": "FileNotFoundError",
     "evalue": "[Errno 2] No such file or directory: 'enronsubjects.txt'",
     "output_type": "error",
     "traceback": [
      "\u001b[1;31m---------------------------------------------------------------------------\u001b[0m",
      "\u001b[1;31mFileNotFoundError\u001b[0m                         Traceback (most recent call last)",
      "\u001b[1;32m<ipython-input-43-e5018b4c43ed>\u001b[0m in \u001b[0;36m<module>\u001b[1;34m()\u001b[0m\n\u001b[1;32m----> 1\u001b[1;33m \u001b[0mall_subjects\u001b[0m \u001b[1;33m=\u001b[0m \u001b[0mopen\u001b[0m\u001b[1;33m(\u001b[0m\u001b[1;34m\"enronsubjects.txt\"\u001b[0m\u001b[1;33m)\u001b[0m\u001b[1;33m.\u001b[0m\u001b[0mread\u001b[0m\u001b[1;33m(\u001b[0m\u001b[1;33m)\u001b[0m\u001b[1;33m\u001b[0m\u001b[0m\n\u001b[0m",
      "\u001b[1;31mFileNotFoundError\u001b[0m: [Errno 2] No such file or directory: 'enronsubjects.txt'"
     ]
    }
   ],
   "source": [
    "all_subjects = open(\"enronsubjects.txt\").read()"
   ]
  },
  {
   "cell_type": "markdown",
   "metadata": {},
   "source": [
    "### monetary amounts in the subject lines\n",
    "match something like $10 m,k,b"
   ]
  },
  {
   "cell_type": "code",
   "execution_count": null,
   "metadata": {
    "collapsed": true
   },
   "outputs": [],
   "source": [
    "re.findall(r\"\\$(\\d+) ?(\\w+)\", all_subjects)"
   ]
  },
  {
   "cell_type": "code",
   "execution_count": null,
   "metadata": {
    "collapsed": true
   },
   "outputs": [],
   "source": [
    "vals = []\n",
    "for item in re.findall(r\"\\$(\\d+) ?(\\w+)\", all_subjects):\n",
    "    multiplier = item[1].lower()\n",
    "    number_val = int(item[0])\n",
    "    if multiplier == 'k':\n",
    "        number_val *=1000\n",
    "    elif multiplier == 'm':\n",
    "        number_val *= 1000000000\n",
    "    vals.append(number_val)\n",
    "sum(vals)"
   ]
  },
  {
   "cell_type": "markdown",
   "metadata": {},
   "source": [
    "### substitution with regular expressions"
   ]
  },
  {
   "cell_type": "code",
   "execution_count": 44,
   "metadata": {
    "collapsed": true
   },
   "outputs": [],
   "source": [
    "message = \"this is a test, this is only a test\""
   ]
  },
  {
   "cell_type": "code",
   "execution_count": 46,
   "metadata": {
    "collapsed": false
   },
   "outputs": [
    {
     "data": {
      "text/plain": [
       "'that is a walrus, that is only a walrus'"
      ]
     },
     "execution_count": 46,
     "metadata": {},
     "output_type": "execute_result"
    }
   ],
   "source": [
    "message.replace(\"this\", \"that\").replace(\"test\", \"walrus\")"
   ]
  },
  {
   "cell_type": "code",
   "execution_count": null,
   "metadata": {
    "collapsed": true
   },
   "outputs": [],
   "source": [
    "re.findall(r\"\\d{3}-\\d{3}-\\d{4}\", all-subjects)"
   ]
  },
  {
   "cell_type": "code",
   "execution_count": 47,
   "metadata": {
    "collapsed": false
   },
   "outputs": [
    {
     "data": {
      "text/plain": [
       "'that is a test; that is only a test.'"
      ]
     },
     "execution_count": 47,
     "metadata": {},
     "output_type": "execute_result"
    }
   ],
   "source": [
    "message = \"This is a test; this is only a test.\"\n",
    "re.sub(r\"[Tt]his\", \"that\", message)"
   ]
  },
  {
   "cell_type": "code",
   "execution_count": 48,
   "metadata": {
    "collapsed": false
   },
   "outputs": [
    {
     "data": {
      "text/plain": [
       "'This is a test; this is only a test.'"
      ]
     },
     "execution_count": 48,
     "metadata": {},
     "output_type": "execute_result"
    }
   ],
   "source": [
    "message"
   ]
  },
  {
   "cell_type": "code",
   "execution_count": 49,
   "metadata": {
    "collapsed": false
   },
   "outputs": [
    {
     "data": {
      "text/plain": [
       "'WALRUS WALRUS WALRUS WALRUS; WALRUS WALRUS WALRUS WALRUS WALRUS.'"
      ]
     },
     "execution_count": 49,
     "metadata": {},
     "output_type": "execute_result"
    }
   ],
   "source": [
    "re.sub(r\"\\b\\w+\\b\", \"WALRUS\", message)"
   ]
  },
  {
   "cell_type": "code",
   "execution_count": null,
   "metadata": {
    "collapsed": true
   },
   "outputs": [],
   "source": [
    "anon = re.sub(r\"\\d{3}-\\d{3}-\\d{4}.{}\", anon)\n",
    "#\"hack-y\""
   ]
  },
  {
   "cell_type": "code",
   "execution_count": null,
   "metadata": {
    "collapsed": true
   },
   "outputs": [],
   "source": [
    "re.findall(r\".{,20}\\d{3}-\\d{3}-X{4}.{,20}\", anon)"
   ]
  },
  {
   "cell_type": "code",
   "execution_count": 50,
   "metadata": {
    "collapsed": true
   },
   "outputs": [],
   "source": [
    "#git add .\n",
    "#git commit -m\"somethin somethin about stuff\"\n",
    "#git push"
   ]
  },
  {
   "cell_type": "markdown",
   "metadata": {},
   "source": [
    "## HTML to SQL\n",
    "\n",
    "scraping menupages"
   ]
  },
  {
   "cell_type": "code",
   "execution_count": 51,
   "metadata": {
    "collapsed": false
   },
   "outputs": [
    {
     "data": {
      "text/plain": [
       "('menupages-morningside-heights.html', <http.client.HTTPMessage at 0xfeda3150>)"
      ]
     },
     "execution_count": 51,
     "metadata": {},
     "output_type": "execute_result"
    }
   ],
   "source": [
    "#syntax: urlretrieve(url, filename)\n",
    "from urllib.request import urlretrieve\n",
    "urlretrieve(\"https://raw.githubusercontent.com/ledeprogram/data-and-databases/master/menupages-morningside-heights.html\", \"menupages-morningside-heights.html\")"
   ]
  },
  {
   "cell_type": "markdown",
   "metadata": {},
   "source": [
    "store:\n",
    "\n",
    "* restaurant name\n",
    "* price ($$$$$)\n",
    "* cuisines\n",
    "\n",
    "research phase:\n",
    "* every restaurant has a `<tr>` that is a child of the `<table>` tag with search-results\n",
    "* restaurants are in <td> tags with class `name-address`\n",
    "* restaurant names are in a `<a> tag inside that `<td>`\n",
    "* restaurant price in a `span` inside a `<td>`\n",
    "* the cuisine of the restaurant is in a `<td>` tag with no class, the fifth `<td>` tag that is a child of the restaurant's `<tr>`\n",
    "\n",
    "target:\n",
    "*list of dictionaries\n",
    "[\n",
    "{'name': \"Brad's\", 'price': 1, 'cuisines': ['coffee']},\n",
    "{'name': \"Cafe Nana\", 'price': 0, 'cuisines': ['Middle Eastern', 'Kosher]},\n",
    "...\n",
    "\n",
    "good idea to - save a copy of the HTML you're going to scrape in case it changes on the actual page"
   ]
  },
  {
   "cell_type": "code",
   "execution_count": 52,
   "metadata": {
    "collapsed": true
   },
   "outputs": [],
   "source": [
    "from bs4 import BeautifulSoup"
   ]
  },
  {
   "cell_type": "code",
   "execution_count": 53,
   "metadata": {
    "collapsed": true
   },
   "outputs": [],
   "source": [
    "raw_html = open(\"menupages-morningside-heights.html\").read()\n",
    "soup = BeautifulSoup(raw_html, \"html.parser\")"
   ]
  },
  {
   "cell_type": "code",
   "execution_count": 56,
   "metadata": {
    "collapsed": false
   },
   "outputs": [
    {
     "name": "stdout",
     "output_type": "stream",
     "text": [
      "Milano Market\n",
      "Massawa\n",
      "China Place\n",
      "Subsconscious\n",
      "Famous Famiglia\n",
      "Kitchenette\n",
      "V & T Pizza\n",
      "New Aroma\n",
      "Peking Garden\n",
      "Tom's Restaurant\n",
      "Pisticci\n",
      "Deluxe\n",
      "Toast\n",
      "Tom's Delicious Pizza\n",
      "West Place\n",
      "Che' Bella Pizza\n",
      "Ajanta\n",
      "Panino Sportivo Roma\n",
      "Max Soha\n",
      "Strokos Pizza\n",
      "Camille's\n",
      "Amsterdam Restaurant\n",
      "Nussbaum & Wu\n",
      "Amir's Grill\n",
      "M2M - Morning To Midnight\n",
      "The Mill\n",
      "Le Monde\n",
      "Melba's\n",
      "Chuck E Cheese's\n",
      "Haagen-Dazs\n",
      "Oren's\n",
      "Dinosaur Bar-B-Que\n",
      "Symposium Greek Restaurant\n",
      "Koronet Pizza\n",
      "The Heights Bar & Grill\n",
      "Cafe Nana\n",
      "Hamilton Deli\n",
      "Community Food & Juice\n",
      "Haakon's Hall\n",
      "El Porton\n",
      "Brad's\n",
      "Mel's Burger Bar\n",
      "Bettolona\n",
      "Five Guys\n",
      "Nikko\n",
      "Falafel on Broadway\n",
      "Sushi Sushi\n",
      "Insomnia Cookies\n",
      "Cafe Amrita\n",
      "Pinkberry\n",
      "Artopolis Espresso Cafe\n",
      "Max Caffe\n",
      "Chipotle\n",
      "Chokolat Patisserie\n",
      "Chokolat Patisserie\n",
      "Joe's G-H Deli\n",
      "Joe the Art of Coffee\n",
      "Levain Bakery\n",
      "Silvana\n",
      "Bier International\n",
      "Vegenation\n",
      "Flat Top\n",
      "Kuro Kuma\n",
      "Vinateria\n",
      "Henan Cart\n",
      "Vine\n",
      "El Paso Truck\n",
      "Mama's Fried Chicken and Pizza\n",
      "Chapati House\n",
      "Dig Inn Seasonal Market\n",
      "Uncle Luoyang\n",
      "Pita Grill\n",
      "Kissaten Jin\n",
      "Serengeti Teas & Spices\n",
      "Lighthouse Fish Market & Restaurant\n",
      "Lolo's Seafood Shack\n",
      "Harmony\n",
      "Bernheim & Schwartz\n",
      "BTH (By The Hudson)\n",
      "Empanadas Monumental\n",
      "Friedman's\n",
      "176 Presbyterian Deli\n",
      "Nacho Mama's\n",
      "Streetbird Rotisserie\n",
      "Colum Chinese Restaurant\n",
      "Flacoz Tacoz\n",
      "sweetgreen\n",
      "La Salle Dumpling Room\n"
     ]
    }
   ],
   "source": [
    "#here are JUST the names\n",
    "search_table = soup.find(\"table\", {'class': 'search-results'})\n",
    "table_body = search_table.find('tbody')\n",
    "for tr_tag in table_body.find_all('tr'):\n",
    "    name_address_tag = tr_tag.find('td', {'class': 'name-address'})\n",
    "    a_tag = name_address_tag.find('a')\n",
    "    print(a_tag.string)"
   ]
  },
  {
   "cell_type": "code",
   "execution_count": 57,
   "metadata": {
    "collapsed": false
   },
   "outputs": [
    {
     "name": "stdout",
     "output_type": "stream",
     "text": [
      "Milano Market 2\n",
      "Massawa 0\n",
      "China Place 0\n",
      "Subsconscious 0\n",
      "Famous Famiglia 0\n",
      "Kitchenette 0\n",
      "V & T Pizza 0\n",
      "New Aroma 1\n",
      "Peking Garden 1\n",
      "Tom's Restaurant 1\n",
      "Pisticci 1\n",
      "Deluxe 1\n",
      "Toast 2\n",
      "Tom's Delicious Pizza 2\n",
      "West Place 1\n",
      "Che' Bella Pizza 0\n",
      "Ajanta 0\n",
      "Panino Sportivo Roma 2\n",
      "Max Soha 2\n",
      "Strokos Pizza 3\n",
      "Camille's 1\n",
      "Amsterdam Restaurant 1\n",
      "Nussbaum & Wu 0\n",
      "Amir's Grill 1\n",
      "M2M - Morning To Midnight 1\n",
      "The Mill 2\n",
      "Le Monde 1\n",
      "Melba's 1\n",
      "Chuck E Cheese's 0\n",
      "Haagen-Dazs 1\n",
      "Oren's 0\n",
      "Dinosaur Bar-B-Que 3\n",
      "Symposium Greek Restaurant 0\n",
      "Koronet Pizza 1\n",
      "The Heights Bar & Grill 1\n",
      "Cafe Nana 0\n",
      "Hamilton Deli 0\n",
      "Community Food & Juice 0\n",
      "Haakon's Hall 0\n",
      "El Porton 0\n",
      "Brad's 1\n",
      "Mel's Burger Bar 2\n",
      "Bettolona 1\n",
      "Five Guys 1\n",
      "Nikko 2\n",
      "Falafel on Broadway 1\n",
      "Sushi Sushi 1\n",
      "Insomnia Cookies 1\n",
      "Cafe Amrita 1\n",
      "Pinkberry 2\n",
      "Artopolis Espresso Cafe 1\n",
      "Max Caffe 2\n",
      "Chipotle 1\n",
      "Chokolat Patisserie 5\n",
      "Chokolat Patisserie 1\n",
      "Joe's G-H Deli 2\n",
      "Joe the Art of Coffee 1\n",
      "Levain Bakery 2\n",
      "Silvana 1\n",
      "Bier International 1\n",
      "Vegenation 1\n",
      "Flat Top 4\n",
      "Kuro Kuma 1\n",
      "Vinateria 2\n",
      "Henan Cart 1\n",
      "Vine 2\n",
      "El Paso Truck 1\n",
      "Mama's Fried Chicken and Pizza 1\n",
      "Chapati House 2\n",
      "Dig Inn Seasonal Market 1\n",
      "Uncle Luoyang 1\n",
      "Pita Grill 2\n",
      "Kissaten Jin 1\n",
      "Serengeti Teas & Spices 2\n",
      "Lighthouse Fish Market & Restaurant 3\n",
      "Lolo's Seafood Shack 2\n",
      "Harmony 1\n",
      "Bernheim & Schwartz 2\n",
      "BTH (By The Hudson) 3\n",
      "Empanadas Monumental 0\n",
      "Friedman's 0\n",
      "176 Presbyterian Deli 0\n",
      "Nacho Mama's 0\n",
      "Streetbird Rotisserie 0\n",
      "Colum Chinese Restaurant 0\n",
      "Flacoz Tacoz 0\n",
      "sweetgreen 0\n",
      "La Salle Dumpling Room 0\n"
     ]
    }
   ],
   "source": [
    "#time for names AND prices\n",
    "search_table = soup.find(\"table\", {'class': 'search-results'})\n",
    "table_body = search_table.find('tbody')\n",
    "for tr_tag in table_body.find_all('tr'):\n",
    "    #get the restaurant name from the a inside a td\n",
    "    name_address_tag = tr_tag.find('td', {'class': 'name-address'})\n",
    "    a_tag = name_address_tag.find('a')\n",
    "    restaurant_name = a_tag.string\n",
    "    #get the price from the span if present\n",
    "    price_tag = tr_tag.find('td', {'class': 'price'})\n",
    "    price_span_tag = price_tag.find('span')\n",
    "    if price_span_tag:\n",
    "        price = int(price_span_tag.string)\n",
    "    else:\n",
    "        price = 0\n",
    "    print(restaurant_name, price)"
   ]
  },
  {
   "cell_type": "code",
   "execution_count": 30,
   "metadata": {
    "collapsed": false
   },
   "outputs": [],
   "source": [
    "def get_name(tr_tag):\n",
    "    name_address_tag = tr_tag.find('td', {'class': 'name-address'})\n",
    "    a_tag = name_address_tag.find('a')\n",
    "    restaurant_name = a_tag.string\n",
    "    return restaurant_name\n",
    "def get_price(tr_tag):\n",
    "    price_tag = tr_tag.find('td', {'class': 'price'})\n",
    "    price_span_tag = price_tag.find('span')\n",
    "    if price_span_tag:\n",
    "        price = int(price_span_tag.string)\n",
    "    else:\n",
    "        price = 0\n",
    "    return price\n",
    "def get_cuisines(tr_tag):\n",
    "    all_td_tags = tr_tag.find_all('td')\n",
    "    cuisine_tag = all_td_tags[4]\n",
    "    cuisines = cuisine_tag.string\n",
    "    cuisines_list = cuisines.split(\", \")\n",
    "    return cuisines_list"
   ]
  },
  {
   "cell_type": "code",
   "execution_count": 32,
   "metadata": {
    "collapsed": false
   },
   "outputs": [
    {
     "ename": "NameError",
     "evalue": "name 'soup' is not defined",
     "output_type": "error",
     "traceback": [
      "\u001b[1;31m---------------------------------------------------------------------------\u001b[0m",
      "\u001b[1;31mNameError\u001b[0m                                 Traceback (most recent call last)",
      "\u001b[1;32m<ipython-input-32-cd08c843a463>\u001b[0m in \u001b[0;36m<module>\u001b[1;34m()\u001b[0m\n\u001b[0;32m      1\u001b[0m \u001b[1;33m\u001b[0m\u001b[0m\n\u001b[1;32m----> 2\u001b[1;33m \u001b[0msearch_table\u001b[0m \u001b[1;33m=\u001b[0m \u001b[0msoup\u001b[0m\u001b[1;33m.\u001b[0m\u001b[0mfind\u001b[0m\u001b[1;33m(\u001b[0m\u001b[1;34m\"table\"\u001b[0m\u001b[1;33m,\u001b[0m \u001b[1;33m{\u001b[0m\u001b[1;34m'class'\u001b[0m\u001b[1;33m:\u001b[0m \u001b[1;34m'search-results'\u001b[0m\u001b[1;33m}\u001b[0m\u001b[1;33m)\u001b[0m\u001b[1;33m\u001b[0m\u001b[0m\n\u001b[0m\u001b[0;32m      3\u001b[0m \u001b[0mtable_body\u001b[0m \u001b[1;33m=\u001b[0m \u001b[0msearch_table\u001b[0m\u001b[1;33m.\u001b[0m\u001b[0mfind\u001b[0m\u001b[1;33m(\u001b[0m\u001b[1;34m'tbody'\u001b[0m\u001b[1;33m)\u001b[0m\u001b[1;33m\u001b[0m\u001b[0m\n\u001b[0;32m      4\u001b[0m \u001b[1;32mfor\u001b[0m \u001b[0mtr_tag\u001b[0m \u001b[1;32min\u001b[0m \u001b[0mtable_body\u001b[0m\u001b[1;33m.\u001b[0m\u001b[0mfind_all\u001b[0m\u001b[1;33m(\u001b[0m\u001b[1;34m'tr'\u001b[0m\u001b[1;33m)\u001b[0m\u001b[1;33m:\u001b[0m\u001b[1;33m\u001b[0m\u001b[0m\n\u001b[0;32m      5\u001b[0m    \u001b[0mrestaurant_name\u001b[0m \u001b[1;33m=\u001b[0m \u001b[0mget_name\u001b[0m\u001b[1;33m(\u001b[0m\u001b[0mtr_tag\u001b[0m\u001b[1;33m)\u001b[0m\u001b[1;33m\u001b[0m\u001b[0m\n",
      "\u001b[1;31mNameError\u001b[0m: name 'soup' is not defined"
     ]
    }
   ],
   "source": [
    "\n",
    "search_table = soup.find(\"table\", {'class': 'search-results'})\n",
    "table_body = search_table.find('tbody')\n",
    "for tr_tag in table_body.find_all('tr'):\n",
    "   restaurant_name = get_name(tr_tag)\n",
    "   price = get_price(tr_tag)\n",
    "   cuisines = get_cuisines(tr_tag)\n",
    "print(restaurant_name, price)"
   ]
  },
  {
   "cell_type": "markdown",
   "metadata": {
    "collapsed": true
   },
   "source": [
    "## Putting this stuff into SQL\n",
    "\"schema\" -> designing the tables\n",
    "\n",
    "* what table(s) do we need?\n",
    "* What should those tables have in them? (columns and data types)\n",
    "\n",
    "\"data normalization\" \"normal form\"\n",
    "\"entities\"\n",
    "* restaurant name, price, list of cuisines\n",
    "* which cuisines a restaurant is associated with\n",
    "\n",
    "restaurant table: \n",
    "* `id` (unique integer identifying the restaurant)\n",
    "* `name` (string with the restaurant's name)\n",
    "* `price` (integer that corresponds to the number of dollar signs)\n",
    "\n",
    "cuisine table:\n",
    "* `restaurant_id` (number associated with restaurant)\n",
    "* `kind` (string that identifies the cuisine type itself)\n",
    "```\n",
    "sample entry from restaurant table\n",
    "id: 4\n",
    "name: Brad's\n",
    "price: 1\n",
    "```\n",
    "\n",
    "```\n",
    "sample entry from cuisine table\n",
    "restaurant_id: 4\n",
    "kind: coffee-tea\n",
    "\n",
    "restaurant_id: 4\n",
    "kind: seafood\n",
    "```\n",
    "\n",
    "\"setup phase\" -> creating dtabases and creating tables \"one time\" -> psq1\n",
    "\"working with data phase\" -> inserting records, selecting stuff -> python\n",
    "\n",
    "sql data types like\n",
    "* int integer\n",
    "* varchar(n) string with length n\n",
    "* numeric number/decimal\n",
    "* 'serial' -> integer that is automatically assigned\n",
    "\n"
   ]
  },
  {
   "cell_type": "code",
   "execution_count": 5,
   "metadata": {
    "collapsed": false
   },
   "outputs": [],
   "source": [
    "import pg8000\n",
    "conn = pg8000.connect(database=\"menupages\", user=\"postgres\", password=\"beowulf\")"
   ]
  },
  {
   "cell_type": "code",
   "execution_count": 6,
   "metadata": {
    "collapsed": false
   },
   "outputs": [
    {
     "data": {
      "text/plain": [
       "pg8000.core.Connection"
      ]
     },
     "execution_count": 6,
     "metadata": {},
     "output_type": "execute_result"
    }
   ],
   "source": [
    "type(conn)"
   ]
  },
  {
   "cell_type": "code",
   "execution_count": 8,
   "metadata": {
    "collapsed": true
   },
   "outputs": [],
   "source": [
    "conn.rollback() #execute this whenever there is a SQL problem"
   ]
  },
  {
   "cell_type": "code",
   "execution_count": 10,
   "metadata": {
    "collapsed": false
   },
   "outputs": [],
   "source": [
    "cursor = conn.cursor()"
   ]
  },
  {
   "cell_type": "markdown",
   "metadata": {},
   "source": [
    "cursor objct:\n",
    "* .execute() <- execute a SQL statement\n",
    "* .fetchone() <- fetches the frist record of teh results of a statement (as a list)\n",
    "* .fetchall() <- returns ALL the rows of the results of a statement (as a list of lists)"
   ]
  },
  {
   "cell_type": "code",
   "execution_count": 11,
   "metadata": {
    "collapsed": true
   },
   "outputs": [],
   "source": [
    "cursor.execute(\"INSERT INTO restaurant (name, price) VALUES ('Good Food Place', 3)\")\n",
    "conn.commit()"
   ]
  },
  {
   "cell_type": "code",
   "execution_count": 12,
   "metadata": {
    "collapsed": false
   },
   "outputs": [
    {
     "name": "stdout",
     "output_type": "stream",
     "text": [
      "[4, 'Panino Sportivo Roma', 2]\n",
      "[5, 'Max Soha', 2]\n",
      "[6, 'Good Food Place', 3]\n"
     ]
    }
   ],
   "source": [
    "cursor.execute(\"SELECT * FROM restaurant\")\n",
    "for item in cursor.fetchall():\n",
    "    print(item)"
   ]
  },
  {
   "cell_type": "code",
   "execution_count": 13,
   "metadata": {
    "collapsed": true
   },
   "outputs": [],
   "source": [
    "cursor.execute(\"INSERT INTO restaurant (name, price) VALUES ('Palace of Vegan Nosh', 3) RETURNING id\")\n",
    "results = cursor.fetchone()[0] #getting what we specified after RETURNING\n",
    "conn.commit()"
   ]
  },
  {
   "cell_type": "code",
   "execution_count": 14,
   "metadata": {
    "collapsed": false
   },
   "outputs": [
    {
     "data": {
      "text/plain": [
       "7"
      ]
     },
     "execution_count": 14,
     "metadata": {},
     "output_type": "execute_result"
    }
   ],
   "source": [
    "results"
   ]
  },
  {
   "cell_type": "code",
   "execution_count": 15,
   "metadata": {
    "collapsed": false
   },
   "outputs": [
    {
     "ename": "TypeError",
     "evalue": "'int' object is not subscriptable",
     "output_type": "error",
     "traceback": [
      "\u001b[1;31m---------------------------------------------------------------------------\u001b[0m",
      "\u001b[1;31mTypeError\u001b[0m                                 Traceback (most recent call last)",
      "\u001b[1;32m<ipython-input-15-3077f7a3fe9f>\u001b[0m in \u001b[0;36m<module>\u001b[1;34m()\u001b[0m\n\u001b[1;32m----> 1\u001b[1;33m \u001b[0mrowid\u001b[0m \u001b[1;33m=\u001b[0m \u001b[0mresults\u001b[0m\u001b[1;33m[\u001b[0m\u001b[1;36m0\u001b[0m\u001b[1;33m]\u001b[0m\u001b[1;33m\u001b[0m\u001b[0m\n\u001b[0m",
      "\u001b[1;31mTypeError\u001b[0m: 'int' object is not subscriptable"
     ]
    }
   ],
   "source": [
    "rowid = results[0]"
   ]
  },
  {
   "cell_type": "code",
   "execution_count": 16,
   "metadata": {
    "collapsed": false
   },
   "outputs": [
    {
     "ename": "NameError",
     "evalue": "name 'rowid' is not defined",
     "output_type": "error",
     "traceback": [
      "\u001b[1;31m---------------------------------------------------------------------------\u001b[0m",
      "\u001b[1;31mNameError\u001b[0m                                 Traceback (most recent call last)",
      "\u001b[1;32m<ipython-input-16-7e66a10cc92b>\u001b[0m in \u001b[0;36m<module>\u001b[1;34m()\u001b[0m\n\u001b[1;32m----> 1\u001b[1;33m \u001b[0mrowid\u001b[0m\u001b[1;33m\u001b[0m\u001b[0m\n\u001b[0m",
      "\u001b[1;31mNameError\u001b[0m: name 'rowid' is not defined"
     ]
    }
   ],
   "source": [
    "rowid"
   ]
  },
  {
   "cell_type": "code",
   "execution_count": 17,
   "metadata": {
    "collapsed": true
   },
   "outputs": [],
   "source": [
    "cursor.execute(\"INSERT INTO restaurant (name, price) VALUES ('Blah Whatever', 1) RETURNING id\")\n",
    "results = cursor.fetchone()[0] #getting what we specified after RETURNING\n",
    "conn.commit()"
   ]
  },
  {
   "cell_type": "code",
   "execution_count": 18,
   "metadata": {
    "collapsed": false
   },
   "outputs": [
    {
     "ename": "NameError",
     "evalue": "name 'rowid' is not defined",
     "output_type": "error",
     "traceback": [
      "\u001b[1;31m---------------------------------------------------------------------------\u001b[0m",
      "\u001b[1;31mNameError\u001b[0m                                 Traceback (most recent call last)",
      "\u001b[1;32m<ipython-input-18-7e66a10cc92b>\u001b[0m in \u001b[0;36m<module>\u001b[1;34m()\u001b[0m\n\u001b[1;32m----> 1\u001b[1;33m \u001b[0mrowid\u001b[0m\u001b[1;33m\u001b[0m\u001b[0m\n\u001b[0m",
      "\u001b[1;31mNameError\u001b[0m: name 'rowid' is not defined"
     ]
    }
   ],
   "source": [
    "rowid"
   ]
  },
  {
   "cell_type": "markdown",
   "metadata": {},
   "source": [
    "## quoting and parameters in SQL"
   ]
  },
  {
   "cell_type": "code",
   "execution_count": null,
   "metadata": {
    "collapsed": true
   },
   "outputs": [],
   "source": [
    "#will not work (possessive apostrophe!)\n",
    "cursor.execute(\"INSERT INTO restaurant (name, price) VALUES ('Brad's', 1) RETURNING id\")\n",
    "rowid = cursor.fetchone()[0] \n",
    "conn.commit()"
   ]
  },
  {
   "cell_type": "code",
   "execution_count": null,
   "metadata": {
    "collapsed": true
   },
   "outputs": [],
   "source": [
    "#SQL injection attack!\n",
    "restaurant = \"(Restaurant'); DELETE FROM restaurant;\""
   ]
  },
  {
   "cell_type": "markdown",
   "metadata": {},
   "source": [
    "string in python -> \"quote\" \"escape\" -> valid sql statement\n",
    "VERY WEIRD, DIFFICULT, ARCANE"
   ]
  },
  {
   "cell_type": "code",
   "execution_count": 19,
   "metadata": {
    "collapsed": true
   },
   "outputs": [],
   "source": [
    "# 'parameters'\n",
    "rest_insert = \"INSERT INTO restaurant (name, price) VALUES (%s, %s)\"\n",
    "cursor.execute(rest_insert, [\"Brad's\", 1])\n",
    "#pg8000 does the work: \"INSERT INTO restaurant (name, price) VALUES ('Brad\\'s', 1)\"\n",
    "conn.commit()"
   ]
  },
  {
   "cell_type": "markdown",
   "metadata": {},
   "source": [
    "## insert a restaurant and its cuisines"
   ]
  },
  {
   "cell_type": "code",
   "execution_count": 20,
   "metadata": {
    "collapsed": true
   },
   "outputs": [],
   "source": [
    "cursor.execute(\"INSERT INTO restaurant (name, price) VALUES (%s, %s) RETURNING id\",\n",
    "               [\"Test Restaurant\", 2])\n",
    "rowid = cursor.fetchone()[0]\n",
    "conn.commit()"
   ]
  },
  {
   "cell_type": "code",
   "execution_count": 21,
   "metadata": {
    "collapsed": false
   },
   "outputs": [
    {
     "data": {
      "text/plain": [
       "10"
      ]
     },
     "execution_count": 21,
     "metadata": {},
     "output_type": "execute_result"
    }
   ],
   "source": [
    "rowid"
   ]
  },
  {
   "cell_type": "code",
   "execution_count": 23,
   "metadata": {
    "collapsed": false
   },
   "outputs": [],
   "source": [
    "#test restaurant serves fondue and casseroles\n",
    "cuisine_insert = \"INSERT INTO cuisine (restaurant_id, kind) VALUES (%s, %s)\"\n",
    "cursor.execute(cuisine_insert, [rowid, \"fondue\"])\n",
    "cursor.execute(cuisine_insert, [rowid, \"casseroles\"])\n",
    "conn.commit()"
   ]
  },
  {
   "cell_type": "markdown",
   "metadata": {},
   "source": [
    "## insert MANY restaurants"
   ]
  },
  {
   "cell_type": "code",
   "execution_count": 24,
   "metadata": {
    "collapsed": false
   },
   "outputs": [
    {
     "ename": "NameError",
     "evalue": "name 'restaurants' is not defined",
     "output_type": "error",
     "traceback": [
      "\u001b[1;31m---------------------------------------------------------------------------\u001b[0m",
      "\u001b[1;31mNameError\u001b[0m                                 Traceback (most recent call last)",
      "\u001b[1;32m<ipython-input-24-d3bfbf796a24>\u001b[0m in \u001b[0;36m<module>\u001b[1;34m()\u001b[0m\n\u001b[1;32m----> 1\u001b[1;33m \u001b[0mrestaurants\u001b[0m\u001b[1;33m\u001b[0m\u001b[0m\n\u001b[0m",
      "\u001b[1;31mNameError\u001b[0m: name 'restaurants' is not defined"
     ]
    }
   ],
   "source": [
    "restaurants"
   ]
  },
  {
   "cell_type": "code",
   "execution_count": 25,
   "metadata": {
    "collapsed": false
   },
   "outputs": [
    {
     "ename": "NameError",
     "evalue": "name 'restaurants' is not defined",
     "output_type": "error",
     "traceback": [
      "\u001b[1;31m---------------------------------------------------------------------------\u001b[0m",
      "\u001b[1;31mNameError\u001b[0m                                 Traceback (most recent call last)",
      "\u001b[1;32m<ipython-input-25-27b7392a0707>\u001b[0m in \u001b[0;36m<module>\u001b[1;34m()\u001b[0m\n\u001b[0;32m      1\u001b[0m \u001b[0mrest_insert\u001b[0m \u001b[1;33m=\u001b[0m \u001b[1;34m\"INSERT INTO restaurant (name, price) VALUES (%s, %s)\"\u001b[0m\u001b[1;33m\u001b[0m\u001b[0m\n\u001b[1;32m----> 2\u001b[1;33m \u001b[1;32mfor\u001b[0m \u001b[0mitem\u001b[0m \u001b[1;32min\u001b[0m \u001b[0mrestaurants\u001b[0m\u001b[1;33m:\u001b[0m\u001b[1;33m\u001b[0m\u001b[0m\n\u001b[0m\u001b[0;32m      3\u001b[0m     \u001b[1;31m#execute SQL statement with data from the restaurant\u001b[0m\u001b[1;33m\u001b[0m\u001b[1;33m\u001b[0m\u001b[0m\n\u001b[0;32m      4\u001b[0m     \u001b[0mcursor\u001b[0m\u001b[1;33m.\u001b[0m\u001b[0mexecute\u001b[0m\u001b[1;33m(\u001b[0m\u001b[0mrest_insert\u001b[0m\u001b[1;33m,\u001b[0m \u001b[1;33m[\u001b[0m\u001b[0mitem\u001b[0m\u001b[1;33m[\u001b[0m\u001b[1;34m'name'\u001b[0m\u001b[1;33m]\u001b[0m\u001b[1;33m,\u001b[0m \u001b[0mitem\u001b[0m\u001b[1;33m[\u001b[0m\u001b[1;34m'price'\u001b[0m\u001b[1;33m]\u001b[0m\u001b[1;33m]\u001b[0m \u001b[1;33m)\u001b[0m\u001b[1;33m\u001b[0m\u001b[0m\n\u001b[0;32m      5\u001b[0m \u001b[0mconn\u001b[0m\u001b[1;33m.\u001b[0m\u001b[0mcommit\u001b[0m\u001b[1;33m(\u001b[0m\u001b[1;33m)\u001b[0m\u001b[1;33m\u001b[0m\u001b[0m\n",
      "\u001b[1;31mNameError\u001b[0m: name 'restaurants' is not defined"
     ]
    }
   ],
   "source": [
    "rest_insert = \"INSERT INTO restaurant (name, price) VALUES (%s, %s)\"\n",
    "for item in restaurants:\n",
    "    #execute SQL statement with data from the restaurant\n",
    "    cursor.execute(rest_insert, [item['name'], item['price']] )\n",
    "conn.commit()"
   ]
  },
  {
   "cell_type": "markdown",
   "metadata": {},
   "source": [
    "(not supposed to work but for other reasons)"
   ]
  },
  {
   "cell_type": "code",
   "execution_count": 26,
   "metadata": {
    "collapsed": false
   },
   "outputs": [
    {
     "ename": "NameError",
     "evalue": "name 'restaurants' is not defined",
     "output_type": "error",
     "traceback": [
      "\u001b[1;31m---------------------------------------------------------------------------\u001b[0m",
      "\u001b[1;31mNameError\u001b[0m                                 Traceback (most recent call last)",
      "\u001b[1;32m<ipython-input-26-070f0d2c17b1>\u001b[0m in \u001b[0;36m<module>\u001b[1;34m()\u001b[0m\n\u001b[1;32m----> 1\u001b[1;33m \u001b[0mfirst\u001b[0m \u001b[1;33m=\u001b[0m \u001b[0mrestaurants\u001b[0m\u001b[1;33m[\u001b[0m\u001b[1;36m0\u001b[0m\u001b[1;33m]\u001b[0m\u001b[1;33m\u001b[0m\u001b[0m\n\u001b[0m\u001b[0;32m      2\u001b[0m \u001b[0mfirst\u001b[0m\u001b[1;33m\u001b[0m\u001b[0m\n",
      "\u001b[1;31mNameError\u001b[0m: name 'restaurants' is not defined"
     ]
    }
   ],
   "source": [
    "first = restaurants[0]\n",
    "first"
   ]
  },
  {
   "cell_type": "code",
   "execution_count": 27,
   "metadata": {
    "collapsed": false
   },
   "outputs": [
    {
     "ename": "NameError",
     "evalue": "name 'first' is not defined",
     "output_type": "error",
     "traceback": [
      "\u001b[1;31m---------------------------------------------------------------------------\u001b[0m",
      "\u001b[1;31mNameError\u001b[0m                                 Traceback (most recent call last)",
      "\u001b[1;32m<ipython-input-27-a969db7155de>\u001b[0m in \u001b[0;36m<module>\u001b[1;34m()\u001b[0m\n\u001b[1;32m----> 1\u001b[1;33m \u001b[0mprint\u001b[0m\u001b[1;33m(\u001b[0m\u001b[0mfirst\u001b[0m\u001b[1;33m[\u001b[0m\u001b[1;34m'name'\u001b[0m\u001b[1;33m]\u001b[0m\u001b[1;33m)\u001b[0m\u001b[1;33m\u001b[0m\u001b[0m\n\u001b[0m\u001b[0;32m      2\u001b[0m \u001b[0mtype\u001b[0m\u001b[1;33m(\u001b[0m\u001b[0mfirst\u001b[0m\u001b[1;33m[\u001b[0m\u001b[1;34m'name'\u001b[0m\u001b[1;33m]\u001b[0m\u001b[1;33m)\u001b[0m\u001b[1;33m\u001b[0m\u001b[0m\n",
      "\u001b[1;31mNameError\u001b[0m: name 'first' is not defined"
     ]
    }
   ],
   "source": [
    "print(first['name'])\n",
    "type(first['name'])"
   ]
  },
  {
   "cell_type": "markdown",
   "metadata": {},
   "source": [
    "so what happened? why isn't this just a string?\n",
    "whenever you use the `.string` attribute of a Beautiful Soup tag object, the type of that value is `bs4.element.NavigableString`.\n",
    "fortunately, an easy fix: `str(val)`"
   ]
  },
  {
   "cell_type": "code",
   "execution_count": 28,
   "metadata": {
    "collapsed": false
   },
   "outputs": [
    {
     "ename": "NameError",
     "evalue": "name 'restaurants' is not defined",
     "output_type": "error",
     "traceback": [
      "\u001b[1;31m---------------------------------------------------------------------------\u001b[0m",
      "\u001b[1;31mNameError\u001b[0m                                 Traceback (most recent call last)",
      "\u001b[1;32m<ipython-input-28-6f598f165351>\u001b[0m in \u001b[0;36m<module>\u001b[1;34m()\u001b[0m\n\u001b[0;32m      1\u001b[0m \u001b[0mrest_insert\u001b[0m \u001b[1;33m=\u001b[0m \u001b[1;34m\"INSERT INTO restaurant (name, price) VALUES (%s, %s)\"\u001b[0m\u001b[1;33m\u001b[0m\u001b[0m\n\u001b[1;32m----> 2\u001b[1;33m \u001b[1;32mfor\u001b[0m \u001b[0mitem\u001b[0m \u001b[1;32min\u001b[0m \u001b[0mrestaurants\u001b[0m\u001b[1;33m:\u001b[0m\u001b[1;33m\u001b[0m\u001b[0m\n\u001b[0m\u001b[0;32m      3\u001b[0m     \u001b[1;31m#execute SQL statement with data from the restaurant\u001b[0m\u001b[1;33m\u001b[0m\u001b[1;33m\u001b[0m\u001b[0m\n\u001b[0;32m      4\u001b[0m     \u001b[0mcursor\u001b[0m\u001b[1;33m.\u001b[0m\u001b[0mexecute\u001b[0m\u001b[1;33m(\u001b[0m\u001b[0mrest_insert\u001b[0m\u001b[1;33m,\u001b[0m \u001b[1;33m[\u001b[0m\u001b[0mstr\u001b[0m\u001b[1;33m(\u001b[0m\u001b[0mitem\u001b[0m\u001b[1;33m[\u001b[0m\u001b[1;34m'name'\u001b[0m\u001b[1;33m]\u001b[0m\u001b[1;33m)\u001b[0m\u001b[1;33m,\u001b[0m \u001b[0mitem\u001b[0m\u001b[1;33m[\u001b[0m\u001b[1;34m'price'\u001b[0m\u001b[1;33m]\u001b[0m\u001b[1;33m]\u001b[0m \u001b[1;33m)\u001b[0m\u001b[1;33m\u001b[0m\u001b[0m\n\u001b[0;32m      5\u001b[0m \u001b[0mconn\u001b[0m\u001b[1;33m.\u001b[0m\u001b[0mcommit\u001b[0m\u001b[1;33m(\u001b[0m\u001b[1;33m)\u001b[0m\u001b[1;33m\u001b[0m\u001b[0m\n",
      "\u001b[1;31mNameError\u001b[0m: name 'restaurants' is not defined"
     ]
    }
   ],
   "source": [
    "rest_insert = \"INSERT INTO restaurant (name, price) VALUES (%s, %s)\"\n",
    "for item in restaurants:\n",
    "    #execute SQL statement with data from the restaurant\n",
    "    cursor.execute(rest_insert, [str(item['name']), item['price']] )\n",
    "conn.commit()"
   ]
  },
  {
   "cell_type": "markdown",
   "metadata": {},
   "source": [
    "## inserting both restaurants AND their cuisines"
   ]
  },
  {
   "cell_type": "code",
   "execution_count": 29,
   "metadata": {
    "collapsed": false
   },
   "outputs": [
    {
     "ename": "NameError",
     "evalue": "name 'restaurants' is not defined",
     "output_type": "error",
     "traceback": [
      "\u001b[1;31m---------------------------------------------------------------------------\u001b[0m",
      "\u001b[1;31mNameError\u001b[0m                                 Traceback (most recent call last)",
      "\u001b[1;32m<ipython-input-29-e6573d06ec4b>\u001b[0m in \u001b[0;36m<module>\u001b[1;34m()\u001b[0m\n\u001b[0;32m      1\u001b[0m \u001b[0mrest_insert\u001b[0m \u001b[1;33m=\u001b[0m \u001b[1;34m\"INSERT INTO restaurant (name, price) VALUES (%s, %s) RETURNING id\"\u001b[0m\u001b[1;33m\u001b[0m\u001b[0m\n\u001b[0;32m      2\u001b[0m \u001b[0mcuisine_insert\u001b[0m \u001b[1;33m=\u001b[0m \u001b[1;34m\"INSERT INTO cuisine (restaurant_id, kind) VALUES (%s, %s)\"\u001b[0m\u001b[1;33m\u001b[0m\u001b[0m\n\u001b[1;32m----> 3\u001b[1;33m \u001b[1;32mfor\u001b[0m \u001b[0mitem\u001b[0m \u001b[1;32min\u001b[0m \u001b[0mrestaurants\u001b[0m\u001b[1;33m:\u001b[0m\u001b[1;33m\u001b[0m\u001b[0m\n\u001b[0m\u001b[0;32m      4\u001b[0m     \u001b[0mprint\u001b[0m\u001b[1;33m(\u001b[0m\u001b[1;34m\"inserting restaurant \"\u001b[0m\u001b[1;33m,\u001b[0m \u001b[0mitem\u001b[0m\u001b[1;33m[\u001b[0m\u001b[1;34m'name'\u001b[0m\u001b[1;33m]\u001b[0m\u001b[1;33m)\u001b[0m\u001b[1;33m\u001b[0m\u001b[0m\n\u001b[0;32m      5\u001b[0m     \u001b[1;31m#insert restaurant, RETURNING id\u001b[0m\u001b[1;33m\u001b[0m\u001b[1;33m\u001b[0m\u001b[0m\n",
      "\u001b[1;31mNameError\u001b[0m: name 'restaurants' is not defined"
     ]
    }
   ],
   "source": [
    "rest_insert = \"INSERT INTO restaurant (name, price) VALUES (%s, %s) RETURNING id\"\n",
    "cuisine_insert = \"INSERT INTO cuisine (restaurant_id, kind) VALUES (%s, %s)\"\n",
    "for item in restaurants:\n",
    "    print(\"inserting restaurant \", item['name'])\n",
    "    #insert restaurant, RETURNING id\n",
    "    cursor.execute(rest_insert, [str(item['name']), item['price']] )\n",
    "    rowid = cursor.fetchone()[0]\n",
    "    for cuisine in item['cuisines']:\n",
    "        cursor.execute(cuisine_insert, [rowid, str(cuisine)])\n",
    "        #insert restaurant_id, cuisine kind into cuisine table\n",
    "conn.commit()"
   ]
  },
  {
   "cell_type": "code",
   "execution_count": null,
   "metadata": {
    "collapsed": true
   },
   "outputs": [],
   "source": [
    "poem = \"\"\"Whose woods these are I think I know\n",
    "His house is in the village though\"\"\""
   ]
  }
 ],
 "metadata": {
  "kernelspec": {
   "display_name": "Python 3",
   "language": "python",
   "name": "python3"
  },
  "language_info": {
   "codemirror_mode": {
    "name": "ipython",
    "version": 3
   },
   "file_extension": ".py",
   "mimetype": "text/x-python",
   "name": "python",
   "nbconvert_exporter": "python",
   "pygments_lexer": "ipython3",
   "version": "3.4.3"
  }
 },
 "nbformat": 4,
 "nbformat_minor": 0
}
