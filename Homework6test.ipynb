{
 "cells": [
  {
   "cell_type": "markdown",
   "metadata": {},
   "source": [
    "## Country information server"
   ]
  },
  {
   "cell_type": "markdown",
   "metadata": {},
   "source": [
    "curl http://localhost:5000/countries?lookup_name=France\n",
    "    France, Paris, 64933400"
   ]
  },
  {
   "cell_type": "code",
   "execution_count": 5,
   "metadata": {
    "collapsed": false
   },
   "outputs": [
    {
     "name": "stdout",
     "output_type": "stream",
     "text": [
      "Requirement already satisfied (use --upgrade to upgrade): flask in c:\\users\\kate\\appdata\\local\\programs\\python\\python35-32\\lib\\site-packages\n",
      "Requirement already satisfied (use --upgrade to upgrade): click>=2.0 in c:\\users\\kate\\appdata\\local\\programs\\python\\python35-32\\lib\\site-packages (from flask)\n",
      "Requirement already satisfied (use --upgrade to upgrade): Jinja2>=2.4 in c:\\users\\kate\\appdata\\local\\programs\\python\\python35-32\\lib\\site-packages (from flask)\n",
      "Requirement already satisfied (use --upgrade to upgrade): Werkzeug>=0.7 in c:\\users\\kate\\appdata\\local\\programs\\python\\python35-32\\lib\\site-packages (from flask)\n",
      "Requirement already satisfied (use --upgrade to upgrade): itsdangerous>=0.21 in c:\\users\\kate\\appdata\\local\\programs\\python\\python35-32\\lib\\site-packages (from flask)\n",
      "Requirement already satisfied (use --upgrade to upgrade): MarkupSafe in c:\\users\\kate\\appdata\\local\\programs\\python\\python35-32\\lib\\site-packages (from Jinja2>=2.4->flask)\n",
      "Requirement already satisfied (use --upgrade to upgrade): pg8000 in c:\\users\\kate\\appdata\\local\\programs\\python\\python35-32\\lib\\site-packages\n",
      "Requirement already satisfied (use --upgrade to upgrade): six>=1.10.0 in c:\\users\\kate\\appdata\\local\\programs\\python\\python35-32\\lib\\site-packages (from pg8000)\n"
     ]
    }
   ],
   "source": [
    "!pip install flask  \n",
    "from flask import Flask, request\n",
    "!pip install pg8000\n",
    "import pg8000"
   ]
  },
  {
   "cell_type": "markdown",
   "metadata": {},
   "source": [
    "- A request to /lakes should return a JSON list of dictionaries, with the information from the name, elevation, area and type fields from the lake table in MONDIAL.\n",
    "- The API should recognize the query string parameter sort. When left blank or set to name, the results should be sorted by the name of the lake (in alphabetical order). When set to area or elevation, the results should be sorted by the requested field, in descending order.\n",
    "- The API should recognize the query string parameter type. When specified, the results should only include rows that have the specified value in the type field.\n",
    "- You should be able to use both the sort and type parameters in any request."
   ]
  },
  {
   "cell_type": "code",
   "execution_count": 9,
   "metadata": {
    "collapsed": false
   },
   "outputs": [],
   "source": [
    "from flask import Flask, request, jsonify\n",
    "import pg8000\n",
    "app = Flask(__name__)\n",
    "conn = pg8000.connect(database='mondial', user='postgres', password='beowulf')\n",
    "\n",
    "@app.route(\"/lakes\")\n",
    "def get_lakes():\n",
    "    cursor = conn.cursor()\n",
    "    cursor.execute(\"SELECT name, elevation, area, type FROM lake ORDER BY name\")\n",
    "    output = []\n",
    "    for item in cursor.fetchall():\n",
    "        output.append({'name': item[0],\n",
    "                       'elevation': item[1],\n",
    "                       'area': int(item[2]),\n",
    "                       'type': item[3]})\n",
    "    return jsonify(output)\n",
    "\n",
    "elevationgt = request.args.get('elevation_gt', 0)\n",
    "if elevationgt:\n",
    "    cursor = conn.cursor()\n",
    "    cursor.execute(\"\"\"SELECT name, elevation, area, type FROM lake \n",
    "                    WHERE elevation >= %s ORDER BY elevation DESC\"\"\", [elevationgt])\n",
    "    output = []\n",
    "    for item in cursor.fetchall():\n",
    "        output.append({'name': item[0],\n",
    "                       'elevation': item[1],\n",
    "                       'area': int(item[2]),\n",
    "                       'type': item[3]})\n",
    "    return jsonify(output)\n",
    "    \n",
    "areagt = request.args.get('area_gt', 0)  \n",
    "if areagt:\n",
    "    cursor = conn.cursor()\n",
    "    cursor.execute(\"\"\"SELECT name, elevation, area, type FROM lake\n",
    "                   WHERE area >= %s ORDER BY area DESC\"\"\", [areagt])\n",
    "    output = []\n",
    "    for item in cursor.fetchall():\n",
    "        output.append({'name': item[0],\n",
    "                       'elevation': item[1],\n",
    "                       'area': int(item[2]),\n",
    "                       'type': item[3]})\n",
    "    return jsonify(output)\n",
    "\n",
    "typegt = request.args.get('type_gt', 0)\n",
    "if typegt:\n",
    "    cursor = conn.cursor()\n",
    "    cursor.execute(\"\"\"SELECT name, elevation, area, type FROM lake \n",
    "                    WHERE elevation >= %s ORDER BY type\"\"\", [typegt])\n",
    "    output = []\n",
    "    for item in cursor.fetchall():\n",
    "        output.append({'name': item[0],\n",
    "                       'elevation': item[1],\n",
    "                       'area': int(item[2]),\n",
    "                       'type': item[3]})\n",
    "    return jsonify(output)\n",
    "\n",
    "app.run()\n"
   ]
  },
  {
   "cell_type": "markdown",
   "metadata": {},
   "source": [
    "- You'll need to construct the SQL query as a string, piece by piece. This will likely involve a somewhat messy tangle of if statements. Lean into the messy tangle.\n",
    "- Make sure to use parameter placeholders (%s) in the query.\n",
    "- If you're getting SQL errors, print out your SQL statement in the request handler function so you can debug it. (When you use print() in Flask, the results will display in your terminal window.)\n",
    "- When in doubt, return to the test code. Examine it carefully and make sure you know exactly what it's trying to do."
   ]
  },
  {
   "cell_type": "code",
   "execution_count": null,
   "metadata": {
    "collapsed": true
   },
   "outputs": [],
   "source": [
    "https://github.com/rashidakamal/data-and-databases/blob/master/12/12-class.ipynb"
   ]
  },
  {
   "cell_type": "code",
   "execution_count": null,
   "metadata": {
    "collapsed": true
   },
   "outputs": [],
   "source": [
    "#def get_countries():\n",
    " #   cursor = conn.cursor()\n",
    "  #pop_gt = int(request.args.get('population_gt', 0))\n",
    "    cursor.execute(\n",
    "        \"\"\"SELECT name, capital, area, population\n",
    "        FROM country\n",
    "        WHERE population >= %s\n",
    "        ORDER BY name\"\"\",\n",
    "        [pop_gt])\n",
    "    output = []\n",
    "    for item in cursor.fetchall():\n",
    "        output.append({'name': item[0],\n",
    "                       'capital': item[1],\n",
    "                       'area': int(item[2]),\n",
    "                       'population': int(item[3])})\n",
    "    return jsonify(output)\n",
    "\n",
    "app.run()\n",
    "\n",
    "def lake_info():\n",
    "    lakename = request.args.get('lookup_name')\n",
    "    if lakename:\n",
    "       cursor = conn.cursor()\n",
    "       cursor.execute(\"SELECT name, elevation, area, type FROM lake WHERE name = %s\", [lakename])\n",
    "       response = cursor.fetchone()\n",
    "       lakeinfo = {\n",
    "          'name': response[0],\n",
    "          'elevation': response[1],\n",
    "          'area': response[2],\n",
    "          'type': response[3]\n",
    "        }\n",
    "    return jsonify(lakeinfo)"
   ]
  },
  {
   "cell_type": "code",
   "execution_count": null,
   "metadata": {
    "collapsed": true
   },
   "outputs": [],
   "source": [
    "@app.route(\"/countries\")\n",
    "def get_countries():\n",
    "    cursor = conn.cursor()\n",
    "    cursor.execute(\"SELECT name, capital, area, population FROM country ORDER BY name\")\n",
    "    output = []\n",
    "    for item in cursor.fetchall():\n",
    "        output.append({'name': item[0],\n",
    "                       'capital': item[1],\n",
    "                       'area': int(item[2]),\n",
    "                       'population': int(item[3])})\n",
    "    return jsonify(output)"
   ]
  }
 ],
 "metadata": {
  "kernelspec": {
   "display_name": "Python 3",
   "language": "python",
   "name": "python3"
  },
  "language_info": {
   "codemirror_mode": {
    "name": "ipython",
    "version": 3
   },
   "file_extension": ".py",
   "mimetype": "text/x-python",
   "name": "python",
   "nbconvert_exporter": "python",
   "pygments_lexer": "ipython3",
   "version": "3.4.3"
  }
 },
 "nbformat": 4,
 "nbformat_minor": 0
}
