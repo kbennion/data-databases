{
 "cells": [
  {
   "cell_type": "markdown",
   "metadata": {},
   "source": [
    "CRUD\n",
    "create\n",
    "retrieve\n",
    "update delete\n",
    "(in SQL):\n",
    "insert\n",
    "select\n",
    "update\n",
    "delete\n",
    "\n",
    "UPDATE _table_\n",
    "SET _col = _val, _col2 = _val\n",
    "WHERE _expr\n",
    "\n",
    "\"web application\"\n",
    "browser requests\n",
    "servers responses\n",
    "they need to speak a common language: HTTP\n",
    "\n",
    "web framework has the software to understand HTTP for you -> func()\n",
    "we're going to use Flask"
   ]
  },
  {
   "cell_type": "markdown",
   "metadata": {},
   "source": [
    "# Writing web applications\n",
    "first thing we need to do is install Flask"
   ]
  },
  {
   "cell_type": "code",
   "execution_count": 1,
   "metadata": {
    "collapsed": false
   },
   "outputs": [
    {
     "name": "stdout",
     "output_type": "stream",
     "text": [
      "Collecting Flask\n",
      "  Downloading Flask-0.11.1-py2.py3-none-any.whl (80kB)\n",
      "\u001b[K    100% |████████████████████████████████| 81kB 1.6MB/s \n",
      "\u001b[?25hRequirement already satisfied (use --upgrade to upgrade): Jinja2>=2.4 in /usr/lib/python3.4/site-packages (from Flask)\n",
      "Collecting itsdangerous>=0.21 (from Flask)\n",
      "  Downloading itsdangerous-0.24.tar.gz (46kB)\n",
      "\u001b[K    100% |████████████████████████████████| 51kB 556kB/s \n",
      "\u001b[?25hCollecting Werkzeug>=0.7 (from Flask)\n",
      "  Downloading Werkzeug-0.11.10-py2.py3-none-any.whl (306kB)\n",
      "\u001b[K    100% |████████████████████████████████| 307kB 648kB/s \n",
      "\u001b[?25hCollecting click>=2.0 (from Flask)\n",
      "  Downloading click-6.6.tar.gz (283kB)\n",
      "\u001b[K    100% |████████████████████████████████| 286kB 781kB/s \n",
      "\u001b[?25hRequirement already satisfied (use --upgrade to upgrade): MarkupSafe in /usr/lib/python3.4/site-packages (from Jinja2>=2.4->Flask)\n",
      "Installing collected packages: itsdangerous, Werkzeug, click, Flask\n",
      "  Running setup.py install for itsdangerous ... \u001b[?25l-\b \b\\\b \b|\b \b/\b \b-\b \bdone\n",
      "\u001b[?25h  Running setup.py install for click ... \u001b[?25l-\b \b\\\b \b|\b \b/\b \b-\b \b\\\b \b|\b \b/\b \b-\b \b\\\b \bdone\n",
      "\u001b[?25hSuccessfully installed Flask-0.11.1 Werkzeug-0.11.10 click-6.6 itsdangerous-0.24\n"
     ]
    }
   ],
   "source": [
    "!pip3 install Flask"
   ]
  },
  {
   "cell_type": "code",
   "execution_count": null,
   "metadata": {
    "collapsed": true
   },
   "outputs": [],
   "source": []
  }
 ],
 "metadata": {
  "kernelspec": {
   "display_name": "Python 3",
   "language": "python",
   "name": "python3"
  },
  "language_info": {
   "codemirror_mode": {
    "name": "ipython",
    "version": 3
   },
   "file_extension": ".py",
   "mimetype": "text/x-python",
   "name": "python",
   "nbconvert_exporter": "python",
   "pygments_lexer": "ipython3",
   "version": "3.4.3"
  }
 },
 "nbformat": 4,
 "nbformat_minor": 0
}
